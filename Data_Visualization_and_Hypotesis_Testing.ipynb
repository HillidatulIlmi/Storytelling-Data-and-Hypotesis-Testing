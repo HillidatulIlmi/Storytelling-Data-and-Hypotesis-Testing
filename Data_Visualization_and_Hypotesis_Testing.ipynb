{
  "cells": [
    {
      "cell_type": "markdown",
      "metadata": {
        "id": "Vfazyy-cPenQ"
      },
      "source": [
        "# 1 - Introduction\n",
        "\n",
        "Name : Hillidatul Ilmi\n",
        "\n",
        "Batch : 12\n",
        "\n",
        "Quoted from springboard.com, the Data Scientist workflow spends a lot of time in the process of collecting, cleaning, and tidying up data, because data will never be clean. Prior to modeling, data science must first collect and analyze data, gather actionable ideas, and share the information obtained. The stages to obtain information from the data will be explained in this milestone through data visualization and statistical analysis."
      ]
    },
    {
      "cell_type": "markdown",
      "metadata": {
        "id": "xlZCbTd2PenS"
      },
      "source": [
        "# 2 - Data Recognition and Problem Identification\n",
        "\n",
        "Statistics is a science that deals with data. Statistics are the data itself, the information, or the result of applying statistical algorithms to the data. From the data set, statistics can be used to conclude or describe the data. The data used by this milestone is sourced from https://console.cloud.google.com/bigquery?project=bigquery-public-data&page=project regarding all transactions that occur in the look store.\n",
        "\n",
        "Data visualization and statistical analysis use different data but are still transaction data that occurs in the online store \"The Look\".\n",
        "\n",
        "The data used for visualization is an inventory item. Inventory goods are all goods owned/controlled by the regional government and goods that are handed over for use to other parties, both movable and immovable and are goods whose use is more than one year and the value can be determined by the regional head and recorded and registered in the regional head. inventory book. The following are the transaction columns for investment goods that occur at the online store 'The Look':\n",
        "- created_at : Stairs and time of occurrence of inventory transactions recorded by users\n",
        "- age : Age or age of the customer who made the purchase of inventory items recorded by users\n",
        "- gender : The gender of the customer who made the purchase of inventory items recorded by users\n",
        "- country : Countries that shop for inventory bars online at the look store\n",
        "- cost : The cost of capital used to purchase inventory items at the look store\n",
        "- product_category : Categories of inventory items sold by the look store\n",
        "- product_retail_price : Prices of investment goods sold by the look shop\n",
        "\n",
        "The data used for statistical analysis is data on products and goods ordered in the online shop the look. William J. A product is a set of tangible or intangible attributes that the buyer accepts as being capable of satisfying his or her needs or needs. While the order is an order made by the system or humans. The following are the column for product transactions that occur at the online store 'The Look':\n",
        "- created_at : Stairs and times of transactions for products in the shop the look\n",
        "- sale_price : Discounts on product prices at the look shop\n",
        "- name : The name of the product that has been sold in the look shop\n",
        "- cost : The cost of capital used to purchase products at the look shop\n",
        "- category : The category of products sold by the look shop\n",
        "- retail_price : Prices of products sold by the look store\n",
        "\n",
        "There has been a problem with the look shop. The CEO of the online store \"The Look\" suspects that there is something wrong with the sales system in his shop, in terms of product sales performance, delivery of goods, etc. Please help reveal whether or not there is a problem with the sales system on the platform. Use thelook_ecommerce dataset on Google Cloud Platform BigQuery. Based on the problems that occur, data scientists will solve the following problems:\n",
        "\n",
        "a. Which country has the largest average inventory purchase transaction ?\n",
        "\n",
        "b. How does the cost of capital compare with the selling price of inventory items ?\n",
        "\n",
        "c. What is the number of comparisons of sales of inventory items in each category of goods ?\n",
        "\n",
        "d. Is the price of an inventory item determined by the age of the customer ?\n",
        "\n",
        "e. Based on the size of the spread, what are the values ​​of the range, variance and standard deviation of the selected product category without any outlier data ?\n",
        "\n",
        "f. Has the product discount at the look store increased significantly ?\n",
        "\n",
        "g. How is the average difference in product sales for the underware category with sochs & hosiery ?"
      ]
    },
    {
      "cell_type": "markdown",
      "metadata": {
        "id": "vx5RxjaDPenX"
      },
      "source": [
        "# 3 - Loading & Querying Data\n",
        "\n",
        "Data loading is used as a process of reloading existing data for a new purpose, in the form of presenting information. Data visualization and statistical analysis using different data but still transaction data that occurs at the online store \"The Look\".\n",
        "- Data visualization using the User data table and the inventory_items table, which displays the create_at, gender, country, cost, product_category and product_retail_price columns.\n",
        "- Statistical analysis using order_items and products table data, which displays create_at, sale_price, name, cost, category and retail_price columns.\n",
        "\n",
        "Here are all the queries made to pull all the required data in this milestone:"
      ]
    },
    {
      "cell_type": "markdown",
      "metadata": {
        "id": "o7Vy4cGfPenh"
      },
      "source": [
        "## 3a - Data loading and queries for visualization\n",
        "\n",
        "`SELECT` #Display the required number of columns from a table\n",
        "\n",
        "`inventory.created_at,users.age,users.gender,users.country`, #Want to display the gender and country columns from the users table\n",
        "\n",
        "`inventory.cost,inventory.product_category,inventory.product_retail_price` #Want to display the created_at, cost, product_category and product_retail_price columns from the inventory table\n",
        "\n",
        "`FROM 'bigquery-public-data.thelook_ecommerce.users' AS users` #Required data from thelook_ecommerce defined as users table\n",
        "\n",
        "`JOIN 'bigquery-public-data.thelook_ecommerce.inventory_items' AS inventory` #Combined with the inner join method of thelook_ecommerce defined as inventory table\n",
        "\n",
        "`ON users.id = inventory.id;` #Merge both tables into one piece"
      ]
    },
    {
      "cell_type": "code",
      "execution_count": null,
      "metadata": {
        "colab": {
          "base_uri": "https://localhost:8080/",
          "height": 423
        },
        "id": "XRa2IyriPeno",
        "outputId": "d0bcb50b-7ac3-4797-87ad-0d3647f1c7c1"
      },
      "outputs": [
        {
          "output_type": "execute_result",
          "data": {
            "text/plain": [
              "                    created_at  age gender         country    cost  \\\n",
              "0      2021-07-13 13:48:37 UTC   56      M           China  13.925   \n",
              "1      2021-08-26 05:08:00 UTC   26      F   United States  13.925   \n",
              "2      2022-04-04 06:22:56 UTC   30      M         Germany  13.925   \n",
              "3      2020-03-15 09:37:00 UTC   17      F          Brasil  13.925   \n",
              "4      2020-11-23 14:49:00 UTC   68      F   United States  13.925   \n",
              "...                        ...  ...    ...             ...     ...   \n",
              "99995  2021-03-15 01:05:00 UTC   32      M           China  14.751   \n",
              "99996  2022-04-02 03:07:20 UTC   68      F  United Kingdom  14.751   \n",
              "99997  2021-09-27 04:34:00 UTC   50      M   United States  14.751   \n",
              "99998  2022-02-26 20:13:15 UTC   70      F           Spain  10.465   \n",
              "99999  2020-06-26 06:14:00 UTC   25      M   United States  10.465   \n",
              "\n",
              "      product_category  product_retail_price  \n",
              "0          Tops & Tees                  25.0  \n",
              "1          Tops & Tees                  25.0  \n",
              "2          Tops & Tees                  25.0  \n",
              "3          Tops & Tees                  25.0  \n",
              "4          Tops & Tees                  25.0  \n",
              "...                ...                   ...  \n",
              "99995           Active                  33.0  \n",
              "99996           Active                  33.0  \n",
              "99997           Active                  33.0  \n",
              "99998        Maternity                  23.0  \n",
              "99999        Maternity                  23.0  \n",
              "\n",
              "[100000 rows x 7 columns]"
            ],
            "text/html": [
              "\n",
              "  <div id=\"df-a4af2b6f-48a4-4754-bedd-3305d0abff12\">\n",
              "    <div class=\"colab-df-container\">\n",
              "      <div>\n",
              "<style scoped>\n",
              "    .dataframe tbody tr th:only-of-type {\n",
              "        vertical-align: middle;\n",
              "    }\n",
              "\n",
              "    .dataframe tbody tr th {\n",
              "        vertical-align: top;\n",
              "    }\n",
              "\n",
              "    .dataframe thead th {\n",
              "        text-align: right;\n",
              "    }\n",
              "</style>\n",
              "<table border=\"1\" class=\"dataframe\">\n",
              "  <thead>\n",
              "    <tr style=\"text-align: right;\">\n",
              "      <th></th>\n",
              "      <th>created_at</th>\n",
              "      <th>age</th>\n",
              "      <th>gender</th>\n",
              "      <th>country</th>\n",
              "      <th>cost</th>\n",
              "      <th>product_category</th>\n",
              "      <th>product_retail_price</th>\n",
              "    </tr>\n",
              "  </thead>\n",
              "  <tbody>\n",
              "    <tr>\n",
              "      <th>0</th>\n",
              "      <td>2021-07-13 13:48:37 UTC</td>\n",
              "      <td>56</td>\n",
              "      <td>M</td>\n",
              "      <td>China</td>\n",
              "      <td>13.925</td>\n",
              "      <td>Tops &amp; Tees</td>\n",
              "      <td>25.0</td>\n",
              "    </tr>\n",
              "    <tr>\n",
              "      <th>1</th>\n",
              "      <td>2021-08-26 05:08:00 UTC</td>\n",
              "      <td>26</td>\n",
              "      <td>F</td>\n",
              "      <td>United States</td>\n",
              "      <td>13.925</td>\n",
              "      <td>Tops &amp; Tees</td>\n",
              "      <td>25.0</td>\n",
              "    </tr>\n",
              "    <tr>\n",
              "      <th>2</th>\n",
              "      <td>2022-04-04 06:22:56 UTC</td>\n",
              "      <td>30</td>\n",
              "      <td>M</td>\n",
              "      <td>Germany</td>\n",
              "      <td>13.925</td>\n",
              "      <td>Tops &amp; Tees</td>\n",
              "      <td>25.0</td>\n",
              "    </tr>\n",
              "    <tr>\n",
              "      <th>3</th>\n",
              "      <td>2020-03-15 09:37:00 UTC</td>\n",
              "      <td>17</td>\n",
              "      <td>F</td>\n",
              "      <td>Brasil</td>\n",
              "      <td>13.925</td>\n",
              "      <td>Tops &amp; Tees</td>\n",
              "      <td>25.0</td>\n",
              "    </tr>\n",
              "    <tr>\n",
              "      <th>4</th>\n",
              "      <td>2020-11-23 14:49:00 UTC</td>\n",
              "      <td>68</td>\n",
              "      <td>F</td>\n",
              "      <td>United States</td>\n",
              "      <td>13.925</td>\n",
              "      <td>Tops &amp; Tees</td>\n",
              "      <td>25.0</td>\n",
              "    </tr>\n",
              "    <tr>\n",
              "      <th>...</th>\n",
              "      <td>...</td>\n",
              "      <td>...</td>\n",
              "      <td>...</td>\n",
              "      <td>...</td>\n",
              "      <td>...</td>\n",
              "      <td>...</td>\n",
              "      <td>...</td>\n",
              "    </tr>\n",
              "    <tr>\n",
              "      <th>99995</th>\n",
              "      <td>2021-03-15 01:05:00 UTC</td>\n",
              "      <td>32</td>\n",
              "      <td>M</td>\n",
              "      <td>China</td>\n",
              "      <td>14.751</td>\n",
              "      <td>Active</td>\n",
              "      <td>33.0</td>\n",
              "    </tr>\n",
              "    <tr>\n",
              "      <th>99996</th>\n",
              "      <td>2022-04-02 03:07:20 UTC</td>\n",
              "      <td>68</td>\n",
              "      <td>F</td>\n",
              "      <td>United Kingdom</td>\n",
              "      <td>14.751</td>\n",
              "      <td>Active</td>\n",
              "      <td>33.0</td>\n",
              "    </tr>\n",
              "    <tr>\n",
              "      <th>99997</th>\n",
              "      <td>2021-09-27 04:34:00 UTC</td>\n",
              "      <td>50</td>\n",
              "      <td>M</td>\n",
              "      <td>United States</td>\n",
              "      <td>14.751</td>\n",
              "      <td>Active</td>\n",
              "      <td>33.0</td>\n",
              "    </tr>\n",
              "    <tr>\n",
              "      <th>99998</th>\n",
              "      <td>2022-02-26 20:13:15 UTC</td>\n",
              "      <td>70</td>\n",
              "      <td>F</td>\n",
              "      <td>Spain</td>\n",
              "      <td>10.465</td>\n",
              "      <td>Maternity</td>\n",
              "      <td>23.0</td>\n",
              "    </tr>\n",
              "    <tr>\n",
              "      <th>99999</th>\n",
              "      <td>2020-06-26 06:14:00 UTC</td>\n",
              "      <td>25</td>\n",
              "      <td>M</td>\n",
              "      <td>United States</td>\n",
              "      <td>10.465</td>\n",
              "      <td>Maternity</td>\n",
              "      <td>23.0</td>\n",
              "    </tr>\n",
              "  </tbody>\n",
              "</table>\n",
              "<p>100000 rows × 7 columns</p>\n",
              "</div>\n",
              "      <button class=\"colab-df-convert\" onclick=\"convertToInteractive('df-a4af2b6f-48a4-4754-bedd-3305d0abff12')\"\n",
              "              title=\"Convert this dataframe to an interactive table.\"\n",
              "              style=\"display:none;\">\n",
              "        \n",
              "  <svg xmlns=\"http://www.w3.org/2000/svg\" height=\"24px\"viewBox=\"0 0 24 24\"\n",
              "       width=\"24px\">\n",
              "    <path d=\"M0 0h24v24H0V0z\" fill=\"none\"/>\n",
              "    <path d=\"M18.56 5.44l.94 2.06.94-2.06 2.06-.94-2.06-.94-.94-2.06-.94 2.06-2.06.94zm-11 1L8.5 8.5l.94-2.06 2.06-.94-2.06-.94L8.5 2.5l-.94 2.06-2.06.94zm10 10l.94 2.06.94-2.06 2.06-.94-2.06-.94-.94-2.06-.94 2.06-2.06.94z\"/><path d=\"M17.41 7.96l-1.37-1.37c-.4-.4-.92-.59-1.43-.59-.52 0-1.04.2-1.43.59L10.3 9.45l-7.72 7.72c-.78.78-.78 2.05 0 2.83L4 21.41c.39.39.9.59 1.41.59.51 0 1.02-.2 1.41-.59l7.78-7.78 2.81-2.81c.8-.78.8-2.07 0-2.86zM5.41 20L4 18.59l7.72-7.72 1.47 1.35L5.41 20z\"/>\n",
              "  </svg>\n",
              "      </button>\n",
              "      \n",
              "  <style>\n",
              "    .colab-df-container {\n",
              "      display:flex;\n",
              "      flex-wrap:wrap;\n",
              "      gap: 12px;\n",
              "    }\n",
              "\n",
              "    .colab-df-convert {\n",
              "      background-color: #E8F0FE;\n",
              "      border: none;\n",
              "      border-radius: 50%;\n",
              "      cursor: pointer;\n",
              "      display: none;\n",
              "      fill: #1967D2;\n",
              "      height: 32px;\n",
              "      padding: 0 0 0 0;\n",
              "      width: 32px;\n",
              "    }\n",
              "\n",
              "    .colab-df-convert:hover {\n",
              "      background-color: #E2EBFA;\n",
              "      box-shadow: 0px 1px 2px rgba(60, 64, 67, 0.3), 0px 1px 3px 1px rgba(60, 64, 67, 0.15);\n",
              "      fill: #174EA6;\n",
              "    }\n",
              "\n",
              "    [theme=dark] .colab-df-convert {\n",
              "      background-color: #3B4455;\n",
              "      fill: #D2E3FC;\n",
              "    }\n",
              "\n",
              "    [theme=dark] .colab-df-convert:hover {\n",
              "      background-color: #434B5C;\n",
              "      box-shadow: 0px 1px 3px 1px rgba(0, 0, 0, 0.15);\n",
              "      filter: drop-shadow(0px 1px 2px rgba(0, 0, 0, 0.3));\n",
              "      fill: #FFFFFF;\n",
              "    }\n",
              "  </style>\n",
              "\n",
              "      <script>\n",
              "        const buttonEl =\n",
              "          document.querySelector('#df-a4af2b6f-48a4-4754-bedd-3305d0abff12 button.colab-df-convert');\n",
              "        buttonEl.style.display =\n",
              "          google.colab.kernel.accessAllowed ? 'block' : 'none';\n",
              "\n",
              "        async function convertToInteractive(key) {\n",
              "          const element = document.querySelector('#df-a4af2b6f-48a4-4754-bedd-3305d0abff12');\n",
              "          const dataTable =\n",
              "            await google.colab.kernel.invokeFunction('convertToInteractive',\n",
              "                                                     [key], {});\n",
              "          if (!dataTable) return;\n",
              "\n",
              "          const docLinkHtml = 'Like what you see? Visit the ' +\n",
              "            '<a target=\"_blank\" href=https://colab.research.google.com/notebooks/data_table.ipynb>data table notebook</a>'\n",
              "            + ' to learn more about interactive tables.';\n",
              "          element.innerHTML = '';\n",
              "          dataTable['output_type'] = 'display_data';\n",
              "          await google.colab.output.renderOutput(dataTable, element);\n",
              "          const docLink = document.createElement('div');\n",
              "          docLink.innerHTML = docLinkHtml;\n",
              "          element.appendChild(docLink);\n",
              "        }\n",
              "      </script>\n",
              "    </div>\n",
              "  </div>\n",
              "  "
            ]
          },
          "metadata": {},
          "execution_count": 2
        }
      ],
      "source": [
        "# Library to retrieve data\n",
        "import pandas as pd\n",
        "import numpy as np\n",
        "import matplotlib.pyplot as plt\n",
        "import seaborn as sns\n",
        "\n",
        "# Display ecommerce table data for data visualization\n",
        "ecommerce = pd.read_csv('https://raw.githubusercontent.com/HillidatulIlmi/Dataset/main/user%20%26%20inventory_Items.csv')\n",
        "ecommerce"
      ]
    },
    {
      "cell_type": "code",
      "execution_count": null,
      "metadata": {
        "colab": {
          "base_uri": "https://localhost:8080/"
        },
        "id": "moCXQaN2Pens",
        "outputId": "83088f21-86cb-48ce-dabb-8b18093ecd53"
      },
      "outputs": [
        {
          "output_type": "execute_result",
          "data": {
            "text/plain": [
              "(100000, 7)"
            ]
          },
          "metadata": {},
          "execution_count": 8
        }
      ],
      "source": [
        "ecommerce.shape"
      ]
    },
    {
      "cell_type": "markdown",
      "metadata": {
        "id": "5VQM9Q1RPent"
      },
      "source": [
        "**Data Type**. From the data above, there are 100000 samples of observations with 7 columns taken from inventory transactions that occur at the look shop. The column information is self-explanatory from the name of each column.\n",
        "\n",
        "1. Qualitative data in this table are created_at, gender, country and product_category.\n",
        "2. The quantitative data in this table are age, cost and product_retail_price."
      ]
    },
    {
      "cell_type": "markdown",
      "metadata": {
        "id": "-P2dnbLSPenv"
      },
      "source": [
        "## 3b - Data loading and queries for statistics analysis"
      ]
    },
    {
      "cell_type": "markdown",
      "source": [
        "\n",
        "`SELECT` #Display the required number of columns from a table\n",
        "\n",
        "`order_items.created_at,order_items.sale_price`, #Want to display the reated_at and sale_price columns from the order_items table\n",
        "\n",
        "`products.name,products.cost,products.category,products.retail_price `#Want to display the name, cost, category and retail_price columns from the products table\n",
        "\n",
        "`FROM 'bigquery-public-data.thelook_ecommerce.order_items' AS order_items` #Required data from thelook_ecommerce defined as order_items table\n",
        "\n",
        "`JOIN 'bigquery-public-data.thelook_ecommerce.products AS products` #Joined by the inner join method of thelook_ecommerce defined as the products table\n",
        "\n",
        "`ON order_items.id = products.id`; #Merge both tables into one piece"
      ],
      "metadata": {
        "id": "hPkiKSFzReaB"
      }
    },
    {
      "cell_type": "code",
      "execution_count": null,
      "metadata": {
        "colab": {
          "base_uri": "https://localhost:8080/",
          "height": 467
        },
        "id": "Ofw5yJggPenx",
        "outputId": "d8b3f482-36cb-4496-c41c-99a6975ee56c"
      },
      "outputs": [
        {
          "output_type": "execute_result",
          "data": {
            "text/plain": [
              "                    created_at  sale_price  \\\n",
              "0      2020-11-14 13:30:35 UTC   16.190001   \n",
              "1      2021-07-25 22:36:14 UTC   76.000000   \n",
              "2      2022-06-01 23:14:25 UTC   62.360001   \n",
              "3      2020-11-19 03:43:03 UTC   45.349998   \n",
              "4      2022-01-04 00:59:14 UTC   32.990002   \n",
              "...                        ...         ...   \n",
              "29115  2021-07-23 00:25:30 UTC   27.000000   \n",
              "29116  2022-03-20 00:20:44 UTC  126.629997   \n",
              "29117  2022-05-31 11:44:13 UTC   35.770000   \n",
              "29118  2022-01-06 16:04:29 UTC   89.779999   \n",
              "29119  2022-01-10 13:22:23 UTC   15.990000   \n",
              "\n",
              "                                                    name       cost  \\\n",
              "0         2XU Men's Swimmers Compression Long Sleeve Top  92.652563   \n",
              "1             TYR Sport Men's Square Leg Short Swim Suit  24.719661   \n",
              "2        TYR Sport Men's Solid Durafast Jammer Swim Suit  15.897600   \n",
              "3      TYR Sport Men's Swim Short/Resistance Short Sw...  17.850000   \n",
              "4                        TYR Alliance Team Splice Jammer  29.408001   \n",
              "...                                                  ...        ...   \n",
              "29115  Comfort Colors C1598 Womens Full-Zip Hooded Fl...  22.150999   \n",
              "29116  Comfort Colors Pigment-Dyed Ladies Full-Zip Ho...  18.973360   \n",
              "29117  Comfort Colors by Chouinard Women's Drawstring...   9.028020   \n",
              "29118  DV by Dolce Vita Women's Larisa Hooded Sweatshirt  17.674240   \n",
              "29119    Independent Trading Co Deluxe Fleece Zip Hoodie  17.533261   \n",
              "\n",
              "                            category  retail_price  \n",
              "0                               Swim    150.410004  \n",
              "1                               Swim     38.990002  \n",
              "2                               Swim     27.600000  \n",
              "3                               Swim     30.000000  \n",
              "4                               Swim     45.950001  \n",
              "...                              ...           ...  \n",
              "29115  Fashion Hoodies & Sweatshirts     52.119999  \n",
              "29116  Fashion Hoodies & Sweatshirts     39.860001  \n",
              "29117  Fashion Hoodies & Sweatshirts     18.020000  \n",
              "29118  Fashion Hoodies & Sweatshirts     34.520000  \n",
              "29119  Fashion Hoodies & Sweatshirts     36.990002  \n",
              "\n",
              "[29120 rows x 6 columns]"
            ],
            "text/html": [
              "\n",
              "  <div id=\"df-477d6f13-69a3-49fd-a7b3-58c1753682c7\">\n",
              "    <div class=\"colab-df-container\">\n",
              "      <div>\n",
              "<style scoped>\n",
              "    .dataframe tbody tr th:only-of-type {\n",
              "        vertical-align: middle;\n",
              "    }\n",
              "\n",
              "    .dataframe tbody tr th {\n",
              "        vertical-align: top;\n",
              "    }\n",
              "\n",
              "    .dataframe thead th {\n",
              "        text-align: right;\n",
              "    }\n",
              "</style>\n",
              "<table border=\"1\" class=\"dataframe\">\n",
              "  <thead>\n",
              "    <tr style=\"text-align: right;\">\n",
              "      <th></th>\n",
              "      <th>created_at</th>\n",
              "      <th>sale_price</th>\n",
              "      <th>name</th>\n",
              "      <th>cost</th>\n",
              "      <th>category</th>\n",
              "      <th>retail_price</th>\n",
              "    </tr>\n",
              "  </thead>\n",
              "  <tbody>\n",
              "    <tr>\n",
              "      <th>0</th>\n",
              "      <td>2020-11-14 13:30:35 UTC</td>\n",
              "      <td>16.190001</td>\n",
              "      <td>2XU Men's Swimmers Compression Long Sleeve Top</td>\n",
              "      <td>92.652563</td>\n",
              "      <td>Swim</td>\n",
              "      <td>150.410004</td>\n",
              "    </tr>\n",
              "    <tr>\n",
              "      <th>1</th>\n",
              "      <td>2021-07-25 22:36:14 UTC</td>\n",
              "      <td>76.000000</td>\n",
              "      <td>TYR Sport Men's Square Leg Short Swim Suit</td>\n",
              "      <td>24.719661</td>\n",
              "      <td>Swim</td>\n",
              "      <td>38.990002</td>\n",
              "    </tr>\n",
              "    <tr>\n",
              "      <th>2</th>\n",
              "      <td>2022-06-01 23:14:25 UTC</td>\n",
              "      <td>62.360001</td>\n",
              "      <td>TYR Sport Men's Solid Durafast Jammer Swim Suit</td>\n",
              "      <td>15.897600</td>\n",
              "      <td>Swim</td>\n",
              "      <td>27.600000</td>\n",
              "    </tr>\n",
              "    <tr>\n",
              "      <th>3</th>\n",
              "      <td>2020-11-19 03:43:03 UTC</td>\n",
              "      <td>45.349998</td>\n",
              "      <td>TYR Sport Men's Swim Short/Resistance Short Sw...</td>\n",
              "      <td>17.850000</td>\n",
              "      <td>Swim</td>\n",
              "      <td>30.000000</td>\n",
              "    </tr>\n",
              "    <tr>\n",
              "      <th>4</th>\n",
              "      <td>2022-01-04 00:59:14 UTC</td>\n",
              "      <td>32.990002</td>\n",
              "      <td>TYR Alliance Team Splice Jammer</td>\n",
              "      <td>29.408001</td>\n",
              "      <td>Swim</td>\n",
              "      <td>45.950001</td>\n",
              "    </tr>\n",
              "    <tr>\n",
              "      <th>...</th>\n",
              "      <td>...</td>\n",
              "      <td>...</td>\n",
              "      <td>...</td>\n",
              "      <td>...</td>\n",
              "      <td>...</td>\n",
              "      <td>...</td>\n",
              "    </tr>\n",
              "    <tr>\n",
              "      <th>29115</th>\n",
              "      <td>2021-07-23 00:25:30 UTC</td>\n",
              "      <td>27.000000</td>\n",
              "      <td>Comfort Colors C1598 Womens Full-Zip Hooded Fl...</td>\n",
              "      <td>22.150999</td>\n",
              "      <td>Fashion Hoodies &amp; Sweatshirts</td>\n",
              "      <td>52.119999</td>\n",
              "    </tr>\n",
              "    <tr>\n",
              "      <th>29116</th>\n",
              "      <td>2022-03-20 00:20:44 UTC</td>\n",
              "      <td>126.629997</td>\n",
              "      <td>Comfort Colors Pigment-Dyed Ladies Full-Zip Ho...</td>\n",
              "      <td>18.973360</td>\n",
              "      <td>Fashion Hoodies &amp; Sweatshirts</td>\n",
              "      <td>39.860001</td>\n",
              "    </tr>\n",
              "    <tr>\n",
              "      <th>29117</th>\n",
              "      <td>2022-05-31 11:44:13 UTC</td>\n",
              "      <td>35.770000</td>\n",
              "      <td>Comfort Colors by Chouinard Women's Drawstring...</td>\n",
              "      <td>9.028020</td>\n",
              "      <td>Fashion Hoodies &amp; Sweatshirts</td>\n",
              "      <td>18.020000</td>\n",
              "    </tr>\n",
              "    <tr>\n",
              "      <th>29118</th>\n",
              "      <td>2022-01-06 16:04:29 UTC</td>\n",
              "      <td>89.779999</td>\n",
              "      <td>DV by Dolce Vita Women's Larisa Hooded Sweatshirt</td>\n",
              "      <td>17.674240</td>\n",
              "      <td>Fashion Hoodies &amp; Sweatshirts</td>\n",
              "      <td>34.520000</td>\n",
              "    </tr>\n",
              "    <tr>\n",
              "      <th>29119</th>\n",
              "      <td>2022-01-10 13:22:23 UTC</td>\n",
              "      <td>15.990000</td>\n",
              "      <td>Independent Trading Co Deluxe Fleece Zip Hoodie</td>\n",
              "      <td>17.533261</td>\n",
              "      <td>Fashion Hoodies &amp; Sweatshirts</td>\n",
              "      <td>36.990002</td>\n",
              "    </tr>\n",
              "  </tbody>\n",
              "</table>\n",
              "<p>29120 rows × 6 columns</p>\n",
              "</div>\n",
              "      <button class=\"colab-df-convert\" onclick=\"convertToInteractive('df-477d6f13-69a3-49fd-a7b3-58c1753682c7')\"\n",
              "              title=\"Convert this dataframe to an interactive table.\"\n",
              "              style=\"display:none;\">\n",
              "        \n",
              "  <svg xmlns=\"http://www.w3.org/2000/svg\" height=\"24px\"viewBox=\"0 0 24 24\"\n",
              "       width=\"24px\">\n",
              "    <path d=\"M0 0h24v24H0V0z\" fill=\"none\"/>\n",
              "    <path d=\"M18.56 5.44l.94 2.06.94-2.06 2.06-.94-2.06-.94-.94-2.06-.94 2.06-2.06.94zm-11 1L8.5 8.5l.94-2.06 2.06-.94-2.06-.94L8.5 2.5l-.94 2.06-2.06.94zm10 10l.94 2.06.94-2.06 2.06-.94-2.06-.94-.94-2.06-.94 2.06-2.06.94z\"/><path d=\"M17.41 7.96l-1.37-1.37c-.4-.4-.92-.59-1.43-.59-.52 0-1.04.2-1.43.59L10.3 9.45l-7.72 7.72c-.78.78-.78 2.05 0 2.83L4 21.41c.39.39.9.59 1.41.59.51 0 1.02-.2 1.41-.59l7.78-7.78 2.81-2.81c.8-.78.8-2.07 0-2.86zM5.41 20L4 18.59l7.72-7.72 1.47 1.35L5.41 20z\"/>\n",
              "  </svg>\n",
              "      </button>\n",
              "      \n",
              "  <style>\n",
              "    .colab-df-container {\n",
              "      display:flex;\n",
              "      flex-wrap:wrap;\n",
              "      gap: 12px;\n",
              "    }\n",
              "\n",
              "    .colab-df-convert {\n",
              "      background-color: #E8F0FE;\n",
              "      border: none;\n",
              "      border-radius: 50%;\n",
              "      cursor: pointer;\n",
              "      display: none;\n",
              "      fill: #1967D2;\n",
              "      height: 32px;\n",
              "      padding: 0 0 0 0;\n",
              "      width: 32px;\n",
              "    }\n",
              "\n",
              "    .colab-df-convert:hover {\n",
              "      background-color: #E2EBFA;\n",
              "      box-shadow: 0px 1px 2px rgba(60, 64, 67, 0.3), 0px 1px 3px 1px rgba(60, 64, 67, 0.15);\n",
              "      fill: #174EA6;\n",
              "    }\n",
              "\n",
              "    [theme=dark] .colab-df-convert {\n",
              "      background-color: #3B4455;\n",
              "      fill: #D2E3FC;\n",
              "    }\n",
              "\n",
              "    [theme=dark] .colab-df-convert:hover {\n",
              "      background-color: #434B5C;\n",
              "      box-shadow: 0px 1px 3px 1px rgba(0, 0, 0, 0.15);\n",
              "      filter: drop-shadow(0px 1px 2px rgba(0, 0, 0, 0.3));\n",
              "      fill: #FFFFFF;\n",
              "    }\n",
              "  </style>\n",
              "\n",
              "      <script>\n",
              "        const buttonEl =\n",
              "          document.querySelector('#df-477d6f13-69a3-49fd-a7b3-58c1753682c7 button.colab-df-convert');\n",
              "        buttonEl.style.display =\n",
              "          google.colab.kernel.accessAllowed ? 'block' : 'none';\n",
              "\n",
              "        async function convertToInteractive(key) {\n",
              "          const element = document.querySelector('#df-477d6f13-69a3-49fd-a7b3-58c1753682c7');\n",
              "          const dataTable =\n",
              "            await google.colab.kernel.invokeFunction('convertToInteractive',\n",
              "                                                     [key], {});\n",
              "          if (!dataTable) return;\n",
              "\n",
              "          const docLinkHtml = 'Like what you see? Visit the ' +\n",
              "            '<a target=\"_blank\" href=https://colab.research.google.com/notebooks/data_table.ipynb>data table notebook</a>'\n",
              "            + ' to learn more about interactive tables.';\n",
              "          element.innerHTML = '';\n",
              "          dataTable['output_type'] = 'display_data';\n",
              "          await google.colab.output.renderOutput(dataTable, element);\n",
              "          const docLink = document.createElement('div');\n",
              "          docLink.innerHTML = docLinkHtml;\n",
              "          element.appendChild(docLink);\n",
              "        }\n",
              "      </script>\n",
              "    </div>\n",
              "  </div>\n",
              "  "
            ]
          },
          "metadata": {},
          "execution_count": 3
        }
      ],
      "source": [
        "# Library to retrieve data\n",
        "import pandas as pd\n",
        "from scipy import stats\n",
        "import numpy as np\n",
        "import matplotlib.pyplot as plt\n",
        "import seaborn as sns\n",
        "\n",
        "# Display the look table data for statistical analysis\n",
        "TheLook = pd.read_csv('https://raw.githubusercontent.com/HillidatulIlmi/Dataset/main/orderitems%20%26%20product.csv')\n",
        "TheLook "
      ]
    },
    {
      "cell_type": "code",
      "execution_count": null,
      "metadata": {
        "colab": {
          "base_uri": "https://localhost:8080/"
        },
        "id": "k3-GI0IgPenz",
        "outputId": "085efc09-5169-440b-b83d-0ff225a4dd96"
      },
      "outputs": [
        {
          "output_type": "execute_result",
          "data": {
            "text/plain": [
              "(29120, 6)"
            ]
          },
          "metadata": {},
          "execution_count": 4
        }
      ],
      "source": [
        "TheLook.shape"
      ]
    },
    {
      "cell_type": "markdown",
      "metadata": {
        "id": "4UhXF9T1Pen0"
      },
      "source": [
        "**Data Type**. From the data above, there are 29120 samples of observations with 6 columns taken from product transactions that occur at the look shop. The column information is self-explanatory from the name of each column.\n",
        "\n",
        "1. Qualitative data in this table is created_at, name and category.\n",
        "2. The quantitative data in this table are sale_price, cost, and retail_price."
      ]
    },
    {
      "cell_type": "markdown",
      "metadata": {
        "id": "jrmv5R8APen1"
      },
      "source": [
        "# 4 - Data Cleaning"
      ]
    },
    {
      "cell_type": "markdown",
      "metadata": {
        "id": "xJi0CE5-Pen3"
      },
      "source": [
        "Data cleaning is the process of preparing data for analysis by removing or modifying data that is incorrect, incomplete, irrelevant, duplicated, or incorrectly formatted. This data is usually not necessary or helpful in analyzing the data as it can hinder the process or give inaccurate results. There are several methods for clearing data depending on how it is stored and the answer you are looking for. In this process, we will check the missing value data with .info() first:"
      ]
    },
    {
      "cell_type": "code",
      "execution_count": null,
      "metadata": {
        "colab": {
          "base_uri": "https://localhost:8080/"
        },
        "id": "bmXcDzdLPen4",
        "outputId": "b27ae26d-c2bb-4751-e845-78cbae228fb0"
      },
      "outputs": [
        {
          "output_type": "stream",
          "name": "stdout",
          "text": [
            "<class 'pandas.core.frame.DataFrame'>\n",
            "RangeIndex: 100000 entries, 0 to 99999\n",
            "Data columns (total 7 columns):\n",
            " #   Column                Non-Null Count   Dtype  \n",
            "---  ------                --------------   -----  \n",
            " 0   created_at            100000 non-null  object \n",
            " 1   age                   100000 non-null  int64  \n",
            " 2   gender                100000 non-null  object \n",
            " 3   country               100000 non-null  object \n",
            " 4   cost                  100000 non-null  float64\n",
            " 5   product_category      100000 non-null  object \n",
            " 6   product_retail_price  100000 non-null  float64\n",
            "dtypes: float64(2), int64(1), object(4)\n",
            "memory usage: 5.3+ MB\n"
          ]
        }
      ],
      "source": [
        "# Checking missing values for data visualization\n",
        "ecommerce.info()"
      ]
    },
    {
      "cell_type": "markdown",
      "metadata": {
        "id": "6d_8iVUCPen5"
      },
      "source": [
        "The results of the analysis of data cleaning or standard missing values in each column are obtained, based on the .info process used to see the specifications of each standard column dataset having a non-null value of 100000 which is equal to data entry of 100000."
      ]
    },
    {
      "cell_type": "code",
      "execution_count": null,
      "metadata": {
        "colab": {
          "base_uri": "https://localhost:8080/",
          "height": 36
        },
        "id": "_IKGVOSKPen5",
        "outputId": "b23229dc-c98a-4d79-a51a-b7311c6de493"
      },
      "outputs": [
        {
          "output_type": "execute_result",
          "data": {
            "text/plain": [
              "'2018-11-14 10:06:41 UTC'"
            ],
            "application/vnd.google.colaboratory.intrinsic+json": {
              "type": "string"
            }
          },
          "metadata": {},
          "execution_count": 6
        }
      ],
      "source": [
        "ecommerce['created_at'].min()"
      ]
    },
    {
      "cell_type": "code",
      "execution_count": null,
      "metadata": {
        "colab": {
          "base_uri": "https://localhost:8080/",
          "height": 36
        },
        "id": "SmAE1TWSPen6",
        "outputId": "ac112f2b-784e-427b-8b0e-8e59a66b9c1f"
      },
      "outputs": [
        {
          "output_type": "execute_result",
          "data": {
            "text/plain": [
              "'2022-06-11 13:49:37.673682 UTC'"
            ],
            "application/vnd.google.colaboratory.intrinsic+json": {
              "type": "string"
            }
          },
          "metadata": {},
          "execution_count": 7
        }
      ],
      "source": [
        "ecommerce['created_at'].max()"
      ]
    },
    {
      "cell_type": "markdown",
      "metadata": {
        "id": "9bRLMBnkPen7"
      },
      "source": [
        "The time range for taking inventory transactions at The Look online store is from 2018-11-14 10:06:41 UTC to 2022-06-11 13:49:37 UTC. Based on this time span, sales transactions at the look shop have always sold inventory items every day, it is expected to maintain consistency in sales in order to get a profit."
      ]
    },
    {
      "cell_type": "code",
      "execution_count": null,
      "metadata": {
        "colab": {
          "base_uri": "https://localhost:8080/"
        },
        "id": "PY0dXawlPen8",
        "outputId": "4d67942e-b631-4f59-e27a-21eda3231882"
      },
      "outputs": [
        {
          "output_type": "stream",
          "name": "stdout",
          "text": [
            "<class 'pandas.core.frame.DataFrame'>\n",
            "RangeIndex: 29120 entries, 0 to 29119\n",
            "Data columns (total 6 columns):\n",
            " #   Column        Non-Null Count  Dtype  \n",
            "---  ------        --------------  -----  \n",
            " 0   created_at    29120 non-null  object \n",
            " 1   sale_price    29120 non-null  float64\n",
            " 2   name          29118 non-null  object \n",
            " 3   cost          29120 non-null  float64\n",
            " 4   category      29120 non-null  object \n",
            " 5   retail_price  29120 non-null  float64\n",
            "dtypes: float64(3), object(3)\n",
            "memory usage: 1.3+ MB\n"
          ]
        }
      ],
      "source": [
        "# Checking missing values for statistical analysis\n",
        "TheLook.info()"
      ]
    },
    {
      "cell_type": "markdown",
      "metadata": {
        "id": "st5FcWekPen8"
      },
      "source": [
        "The results of the analysis of data cleaning or standard missing values in each column are obtained, based on the .info process used to see the specifications of each standard column dataset having a non-null value of 29120 which is the same as data entry of 29120."
      ]
    },
    {
      "cell_type": "code",
      "execution_count": null,
      "metadata": {
        "colab": {
          "base_uri": "https://localhost:8080/",
          "height": 36
        },
        "id": "5u25qXqUPen9",
        "outputId": "3623eade-824e-4b39-f41c-9eca82b0b7b9"
      },
      "outputs": [
        {
          "output_type": "execute_result",
          "data": {
            "text/plain": [
              "'2019-01-12 11:23:41 UTC'"
            ],
            "application/vnd.google.colaboratory.intrinsic+json": {
              "type": "string"
            }
          },
          "metadata": {},
          "execution_count": 9
        }
      ],
      "source": [
        "TheLook['created_at'].min()"
      ]
    },
    {
      "cell_type": "code",
      "execution_count": null,
      "metadata": {
        "colab": {
          "base_uri": "https://localhost:8080/",
          "height": 36
        },
        "id": "ym3ajbxAPen-",
        "outputId": "3bf6b469-802f-47b9-d52b-6b9ded8ad0c8"
      },
      "outputs": [
        {
          "output_type": "execute_result",
          "data": {
            "text/plain": [
              "'2022-06-12 13:37:17.619829 UTC'"
            ],
            "application/vnd.google.colaboratory.intrinsic+json": {
              "type": "string"
            }
          },
          "metadata": {},
          "execution_count": 10
        }
      ],
      "source": [
        "TheLook['created_at'].max()"
      ]
    },
    {
      "cell_type": "markdown",
      "metadata": {
        "id": "8SxSkMjTPen_"
      },
      "source": [
        "The time range for collecting inventory transactions at The Look online store is from 2019-01-12 11:23:41 UTC to 2022-06-12 13:37:17 UTC. Based on this time span, sales transactions at the look shop have always sold products every day, it is expected to maintain consistency in sales in order to get a profit."
      ]
    },
    {
      "cell_type": "markdown",
      "metadata": {
        "id": "qjfIXO0JPen_"
      },
      "source": [
        "Missing value or cleaning, usually done by replacing missing values. Compared to delete/Drop, replacing missing values is a better choice because there is no wasted data. But of course the column data becomes less accurate because it is filled with estimated values. Based on the results of data cleaning or checking of standard missing values in both tables, it is obtained, based on the .info process which is used to view the specifications of each table with the standard column dataset having the same non-null value as the data entry. So that the data table can be used for the stage of data visualization and statistical analysis."
      ]
    },
    {
      "cell_type": "markdown",
      "metadata": {
        "id": "5zJNpuhTPeoH"
      },
      "source": [
        "# 5 - Data Visualization and Data Storytelling\n",
        "\n",
        "Data Visualization is one of the modern visual communications that can be a solution to present data to make it easier to understand. In terms of language, it can be interpreted as a visual display in the form of graphics of certain information and data. Its use is to present structured data or not to use graphics or other images to display the information contained in the data. In this milstone, visualization data will be displayed in the form of :"
      ]
    },
    {
      "cell_type": "markdown",
      "metadata": {
        "id": "pb5EkeabPeoJ"
      },
      "source": [
        "## 5a - Bar Chart\n",
        "\n",
        "Bar charts use horizontal or vertical bars to show comparisons between categories. The longer a bar, the greater the value it represents. One axis in the chart shows the categories (dimensions) being compared, and the other axis represents discrete values (metrics). In this milstone, it displays 2 bar charts, namely the first to see the online transactions of several countries for inventory items, the second to see a comparison of price discounts and selling prices of inventory items in each category."
      ]
    },
    {
      "cell_type": "code",
      "execution_count": null,
      "metadata": {
        "colab": {
          "base_uri": "https://localhost:8080/",
          "height": 354
        },
        "id": "SJSCUkdmPeoK",
        "outputId": "45efca81-264d-48d7-e593-6134ee8c576e"
      },
      "outputs": [
        {
          "output_type": "execute_result",
          "data": {
            "text/plain": [
              "[]"
            ]
          },
          "metadata": {},
          "execution_count": 11
        },
        {
          "output_type": "display_data",
          "data": {
            "text/plain": [
              "<Figure size 432x288 with 1 Axes>"
            ],
            "image/png": "[encoded data removed]"
          },
          "metadata": {
            "needs_background": "light"
          }
        }
      ],
      "source": [
        "# Multiple countries online transactions on inventory items\n",
        "# Count the number of inventory items based on the category of inventory items sold by the look shop in each country\n",
        "Negara = ecommerce['country'].value_counts().plot(kind='bar')\n",
        "\n",
        "# Create a bar chart\n",
        "Negara.plot(kind='bar', title='Transaction of the look store inventory items by country')"
      ]
    },
    {
      "cell_type": "markdown",
      "metadata": {
        "id": "R2VrnO9SPeoN"
      },
      "source": [
        "In the bar chart above, it will be seen that the majority of all inventory transactions are owned/performed by the Chinese government. The austin government conducts inventory transactions not very often."
      ]
    },
    {
      "cell_type": "code",
      "execution_count": null,
      "metadata": {
        "colab": {
          "base_uri": "https://localhost:8080/",
          "height": 442
        },
        "id": "rX_TQkauPeoN",
        "outputId": "8bf0b4b1-5d2b-4b98-a160-8298d4880603"
      },
      "outputs": [
        {
          "output_type": "execute_result",
          "data": {
            "text/plain": [
              "[]"
            ]
          },
          "metadata": {},
          "execution_count": 12
        },
        {
          "output_type": "display_data",
          "data": {
            "text/plain": [
              "<Figure size 432x288 with 1 Axes>"
            ],
            "image/png": "[encoded data removed]"
          },
          "metadata": {
            "needs_background": "light"
          }
        }
      ],
      "source": [
        "# View a comparison of discounted prices and the selling price of inventory items in each category\n",
        "# Count the number of inventory items by Category of inventory items then compare the discounted price with the original price\n",
        "PerbandinganHarga = ecommerce.groupby('product_category').sum()[['cost','product_retail_price']].plot(kind='bar')\n",
        "\n",
        "# Create a bar chart\n",
        "PerbandinganHarga.plot(kind='bar', title='Comparison of the discounted price and the original price of Inventory Items')"
      ]
    },
    {
      "cell_type": "markdown",
      "metadata": {
        "id": "9yAP8aTtPeoP"
      },
      "source": [
        "In the bar chart above, it will be seen that the comparison of discounted prices and original prices can reduce the costs incurred by buyers in providing inventory items. Visually, Inventory Items in the jumpsuits & rompers category have a discounted price of half the original price, so they can save costs for buyers."
      ]
    },
    {
      "cell_type": "markdown",
      "metadata": {
        "id": "zzn_1CY7Peoh"
      },
      "source": [
        "## 5b - Pie Chart\n",
        "\n",
        "Pie graph or pie chart is a statistical graph in the form of a circle which is divided into several slices and its area depends on the numerical proportion or quantity of the data held. One circle indicates the whole or one hundred percent. In this milstone, it will display a pie chart in the form of sales of inventory items in each category."
      ]
    },
    {
      "cell_type": "code",
      "execution_count": null,
      "metadata": {
        "colab": {
          "base_uri": "https://localhost:8080/",
          "height": 237
        },
        "id": "d4L5V5LoPeom",
        "outputId": "56f0194c-9a12-4ca6-ecc6-698b4eb4ff08"
      },
      "outputs": [
        {
          "output_type": "execute_result",
          "data": {
            "text/plain": [
              "                     product_retail_price\n",
              "product_category                         \n",
              "Clothing Sets                10285.380007\n",
              "Jumpsuits & Rompers          18236.250028\n",
              "Socks & Hosiery              32766.349930\n",
              "Leggings                     47308.359969\n",
              "Skirts                       59917.470161"
            ],
            "text/html": [
              "\n",
              "  <div id=\"df-5525ddd4-f5ec-4d50-bda5-b6b38b976f1a\">\n",
              "    <div class=\"colab-df-container\">\n",
              "      <div>\n",
              "<style scoped>\n",
              "    .dataframe tbody tr th:only-of-type {\n",
              "        vertical-align: middle;\n",
              "    }\n",
              "\n",
              "    .dataframe tbody tr th {\n",
              "        vertical-align: top;\n",
              "    }\n",
              "\n",
              "    .dataframe thead th {\n",
              "        text-align: right;\n",
              "    }\n",
              "</style>\n",
              "<table border=\"1\" class=\"dataframe\">\n",
              "  <thead>\n",
              "    <tr style=\"text-align: right;\">\n",
              "      <th></th>\n",
              "      <th>product_retail_price</th>\n",
              "    </tr>\n",
              "    <tr>\n",
              "      <th>product_category</th>\n",
              "      <th></th>\n",
              "    </tr>\n",
              "  </thead>\n",
              "  <tbody>\n",
              "    <tr>\n",
              "      <th>Clothing Sets</th>\n",
              "      <td>10285.380007</td>\n",
              "    </tr>\n",
              "    <tr>\n",
              "      <th>Jumpsuits &amp; Rompers</th>\n",
              "      <td>18236.250028</td>\n",
              "    </tr>\n",
              "    <tr>\n",
              "      <th>Socks &amp; Hosiery</th>\n",
              "      <td>32766.349930</td>\n",
              "    </tr>\n",
              "    <tr>\n",
              "      <th>Leggings</th>\n",
              "      <td>47308.359969</td>\n",
              "    </tr>\n",
              "    <tr>\n",
              "      <th>Skirts</th>\n",
              "      <td>59917.470161</td>\n",
              "    </tr>\n",
              "  </tbody>\n",
              "</table>\n",
              "</div>\n",
              "      <button class=\"colab-df-convert\" onclick=\"convertToInteractive('df-5525ddd4-f5ec-4d50-bda5-b6b38b976f1a')\"\n",
              "              title=\"Convert this dataframe to an interactive table.\"\n",
              "              style=\"display:none;\">\n",
              "        \n",
              "  <svg xmlns=\"http://www.w3.org/2000/svg\" height=\"24px\"viewBox=\"0 0 24 24\"\n",
              "       width=\"24px\">\n",
              "    <path d=\"M0 0h24v24H0V0z\" fill=\"none\"/>\n",
              "    <path d=\"M18.56 5.44l.94 2.06.94-2.06 2.06-.94-2.06-.94-.94-2.06-.94 2.06-2.06.94zm-11 1L8.5 8.5l.94-2.06 2.06-.94-2.06-.94L8.5 2.5l-.94 2.06-2.06.94zm10 10l.94 2.06.94-2.06 2.06-.94-2.06-.94-.94-2.06-.94 2.06-2.06.94z\"/><path d=\"M17.41 7.96l-1.37-1.37c-.4-.4-.92-.59-1.43-.59-.52 0-1.04.2-1.43.59L10.3 9.45l-7.72 7.72c-.78.78-.78 2.05 0 2.83L4 21.41c.39.39.9.59 1.41.59.51 0 1.02-.2 1.41-.59l7.78-7.78 2.81-2.81c.8-.78.8-2.07 0-2.86zM5.41 20L4 18.59l7.72-7.72 1.47 1.35L5.41 20z\"/>\n",
              "  </svg>\n",
              "      </button>\n",
              "      \n",
              "  <style>\n",
              "    .colab-df-container {\n",
              "      display:flex;\n",
              "      flex-wrap:wrap;\n",
              "      gap: 12px;\n",
              "    }\n",
              "\n",
              "    .colab-df-convert {\n",
              "      background-color: #E8F0FE;\n",
              "      border: none;\n",
              "      border-radius: 50%;\n",
              "      cursor: pointer;\n",
              "      display: none;\n",
              "      fill: #1967D2;\n",
              "      height: 32px;\n",
              "      padding: 0 0 0 0;\n",
              "      width: 32px;\n",
              "    }\n",
              "\n",
              "    .colab-df-convert:hover {\n",
              "      background-color: #E2EBFA;\n",
              "      box-shadow: 0px 1px 2px rgba(60, 64, 67, 0.3), 0px 1px 3px 1px rgba(60, 64, 67, 0.15);\n",
              "      fill: #174EA6;\n",
              "    }\n",
              "\n",
              "    [theme=dark] .colab-df-convert {\n",
              "      background-color: #3B4455;\n",
              "      fill: #D2E3FC;\n",
              "    }\n",
              "\n",
              "    [theme=dark] .colab-df-convert:hover {\n",
              "      background-color: #434B5C;\n",
              "      box-shadow: 0px 1px 3px 1px rgba(0, 0, 0, 0.15);\n",
              "      filter: drop-shadow(0px 1px 2px rgba(0, 0, 0, 0.3));\n",
              "      fill: #FFFFFF;\n",
              "    }\n",
              "  </style>\n",
              "\n",
              "      <script>\n",
              "        const buttonEl =\n",
              "          document.querySelector('#df-5525ddd4-f5ec-4d50-bda5-b6b38b976f1a button.colab-df-convert');\n",
              "        buttonEl.style.display =\n",
              "          google.colab.kernel.accessAllowed ? 'block' : 'none';\n",
              "\n",
              "        async function convertToInteractive(key) {\n",
              "          const element = document.querySelector('#df-5525ddd4-f5ec-4d50-bda5-b6b38b976f1a');\n",
              "          const dataTable =\n",
              "            await google.colab.kernel.invokeFunction('convertToInteractive',\n",
              "                                                     [key], {});\n",
              "          if (!dataTable) return;\n",
              "\n",
              "          const docLinkHtml = 'Like what you see? Visit the ' +\n",
              "            '<a target=\"_blank\" href=https://colab.research.google.com/notebooks/data_table.ipynb>data table notebook</a>'\n",
              "            + ' to learn more about interactive tables.';\n",
              "          element.innerHTML = '';\n",
              "          dataTable['output_type'] = 'display_data';\n",
              "          await google.colab.output.renderOutput(dataTable, element);\n",
              "          const docLink = document.createElement('div');\n",
              "          docLink.innerHTML = docLinkHtml;\n",
              "          element.appendChild(docLink);\n",
              "        }\n",
              "      </script>\n",
              "    </div>\n",
              "  </div>\n",
              "  "
            ]
          },
          "metadata": {},
          "execution_count": 13
        }
      ],
      "source": [
        "# Number of transactions for inventory items for each category\n",
        "Pie = ecommerce.groupby(by='product_category')[['product_retail_price']].sum().sort_values(by='product_retail_price', ascending=True)\n",
        "Pie.head()"
      ]
    },
    {
      "cell_type": "code",
      "execution_count": null,
      "metadata": {
        "colab": {
          "base_uri": "https://localhost:8080/",
          "height": 593
        },
        "id": "D3xQ5zhaPeoq",
        "outputId": "381b9a37-5bdd-4cdf-e56b-d7e54ad269b6"
      },
      "outputs": [
        {
          "output_type": "execute_result",
          "data": {
            "text/plain": [
              "<matplotlib.axes._subplots.AxesSubplot at 0x7f56e468f750>"
            ]
          },
          "metadata": {},
          "execution_count": 14
        },
        {
          "output_type": "display_data",
          "data": {
            "text/plain": [
              "<Figure size 720x720 with 1 Axes>"
            ],
            "image/png": "[encoded data removed]"
          },
          "metadata": {}
        }
      ],
      "source": [
        "# Displays the percentage of inventory sales transactions at the look shop\n",
        "ecommerce['product_category'].value_counts().plot(kind='pie', figsize=(10,10), autopct='%.2f')"
      ]
    },
    {
      "cell_type": "markdown",
      "metadata": {
        "id": "nZ3hzkq0Peor"
      },
      "source": [
        "Based on the pie chart above, it can be seen that the intimates category inventory items sold the most, followed by jeans and other categories."
      ]
    },
    {
      "cell_type": "code",
      "source": [
        "# Displays the percentage of buyers' gender in making purchases of inventory items at the look shop\n",
        "ecommerce['gender'].value_counts().plot(kind='pie', figsize=(10,10), autopct='%.2f')"
      ],
      "metadata": {
        "colab": {
          "base_uri": "https://localhost:8080/",
          "height": 593
        },
        "id": "eNBt6wSNR-n0",
        "outputId": "04a583bf-f340-4d49-85b5-51c3aa3932bb"
      },
      "execution_count": null,
      "outputs": [
        {
          "output_type": "execute_result",
          "data": {
            "text/plain": [
              "<matplotlib.axes._subplots.AxesSubplot at 0x7f56e458fb50>"
            ]
          },
          "metadata": {},
          "execution_count": 15
        },
        {
          "output_type": "display_data",
          "data": {
            "text/plain": [
              "<Figure size 720x720 with 1 Axes>"
            ],
            "image/png": "[encoded data removed]"
          },
          "metadata": {}
        }
      ]
    },
    {
      "cell_type": "markdown",
      "source": [
        "Based on the pie chart above, it can be seen that the male buyers of inventory items make the most transactions."
      ],
      "metadata": {
        "id": "6934nrmdSWi8"
      }
    },
    {
      "cell_type": "markdown",
      "metadata": {
        "id": "PQNSnZSoPeos"
      },
      "source": [
        "## 5c - Scatter plot\n",
        "\n",
        "Scatter plot is a graph that is usually used to see a pattern of the relationship between 2 variables. To be able to use a scatter plot, the data scale used must be an interval and ratio scale. In this milstone, we want to see a scatter plot of the relationship between buyer age and the selling price of inventory items offered by the look shop."
      ]
    },
    {
      "cell_type": "code",
      "execution_count": null,
      "metadata": {
        "colab": {
          "base_uri": "https://localhost:8080/",
          "height": 313
        },
        "id": "QxgsHsNqPeos",
        "outputId": "bafc62fe-81de-4760-91d8-960c2f7e9a29"
      },
      "outputs": [
        {
          "output_type": "execute_result",
          "data": {
            "text/plain": [
              "<matplotlib.axes._subplots.AxesSubplot at 0x7f56e2cd5b90>"
            ]
          },
          "metadata": {},
          "execution_count": 17
        },
        {
          "output_type": "display_data",
          "data": {
            "text/plain": [
              "<Figure size 432x288 with 1 Axes>"
            ],
            "image/png": "[encoded data removed]"
          },
          "metadata": {
            "needs_background": "light"
          }
        }
      ],
      "source": [
        "#Scater Plot\n",
        "ecommerce.plot(kind='scatter', title='Relationship of Age and Price of Original Products', x='age', y='product_retail_price')"
      ]
    },
    {
      "cell_type": "markdown",
      "metadata": {
        "id": "f8yXmBjePeot"
      },
      "source": [
        "Based on the scatter plot above, that there is a relationship between age and the price of inventory items sold. For example, Pants are often purchased by older people. Scatter plots can also show the existence of outliers that are far from the set of the two variables. Outliers are extreme data that may result from an abnormal situation."
      ]
    },
    {
      "cell_type": "markdown",
      "metadata": {
        "id": "AsDGLn9WPeou"
      },
      "source": [
        "# 6 - Statistical Analysis\n",
        "\n",
        "Statistical analysis is a data processing process that includes checking, cleaning, transforming, processing, and modeling data. Statistical analysis is divided into two, namely descriptive statistics and inferential statistics.\n",
        "- Statistics Description is a statistical method related to the way of collecting, processing and presenting data to provide information.\n",
        "- Inferential statistics is a statistical method related to how to analyze, interpret and draw conclusions from the results of the analysis.\n",
        "(Sudjana, 2002).\n"
      ]
    },
    {
      "cell_type": "markdown",
      "metadata": {
        "id": "pRHcgghEPeou"
      },
      "source": [
        "## 6a - Descriptive Statistics\n",
        "\n",
        "Descriptive statistics are divided into 2, namely the size of the concentration and the size of the spread. In milstone, the measures of concentration used are the mean, median and mode. While the size of the spread used is the range, variance and standard deviation."
      ]
    },
    {
      "cell_type": "code",
      "execution_count": null,
      "metadata": {
        "colab": {
          "base_uri": "https://localhost:8080/"
        },
        "id": "Rc71WnvoPeou",
        "outputId": "a10d71fa-81a7-42a5-e202-1f2ed01453ca"
      },
      "outputs": [
        {
          "output_type": "execute_result",
          "data": {
            "text/plain": [
              "array(['Swim', 'Jeans', 'Pants', 'Socks', 'Active', 'Shorts', 'Sweaters',\n",
              "       'Underwear', 'Accessories', 'Tops & Tees', 'Sleep & Lounge',\n",
              "       'Outerwear & Coats', 'Suits & Sport Coats',\n",
              "       'Fashion Hoodies & Sweatshirts', 'Plus', 'Suits', 'Skirts',\n",
              "       'Dresses', 'Leggings', 'Intimates', 'Maternity', 'Clothing Sets',\n",
              "       'Pants & Capris', 'Socks & Hosiery', 'Blazers & Jackets',\n",
              "       'Jumpsuits & Rompers'], dtype=object)"
            ]
          },
          "metadata": {},
          "execution_count": 18
        }
      ],
      "source": [
        "# View the categories of products that are sold\n",
        "TheLook['category'].unique()"
      ]
    },
    {
      "cell_type": "code",
      "execution_count": null,
      "metadata": {
        "colab": {
          "base_uri": "https://localhost:8080/"
        },
        "id": "IasLqZDzPeov",
        "outputId": "f3099ffc-785a-4a5e-cc51-8c3a4010132c"
      },
      "outputs": [
        {
          "output_type": "stream",
          "name": "stdout",
          "text": [
            "---Product price category swim---\n",
            "Mode: 25.0\n",
            "Median: 49.9900016784668\n",
            "Mean: 57.81566191833462\n",
            "S.dev: 35.78527989865552\n",
            "\n",
            "---Product price category Jeans---\n",
            "Mode: 98.0\n",
            "Median: 78.0\n",
            "Mean: 97.85320674568013\n",
            "S.dev: 63.84652302631376\n",
            "\n",
            "---Product price category Pants---\n",
            "Mode: 49.9900016784668\n",
            "Median: 49.9900016784668\n",
            "Mean: 59.81431338285507\n",
            "S.dev: 38.333552884302804\n",
            "\n",
            "---Product price category Socks---\n",
            "Mode: 12.0\n",
            "Median: 15.079999923706056\n",
            "Mean: 20.424928183581947\n",
            "S.dev: 43.04001379738287\n",
            "\n",
            "---Product price category Active---\n",
            "Mode: 25.0\n",
            "Median: 33.97999954223633\n",
            "Mean: 50.62101957834633\n",
            "S.dev: 75.69040993678708\n",
            "\n",
            "---Product price category Shorts---\n",
            "Mode: 25.0\n",
            "Median: 39.59999847412109\n",
            "Mean: 45.769915145247246\n",
            "S.dev: 46.230400373773534\n",
            "\n",
            "---Product price category Sweaters---\n",
            "Mode: 19.989999771118164\n",
            "Median: 58.9900016784668\n",
            "Mean: 75.31898100319853\n",
            "S.dev: 58.82624227057094\n",
            "\n",
            "---Product price category Underwear---\n",
            "Mode: 25.0\n",
            "Median: 25.0\n",
            "Mean: 27.156001869808225\n",
            "S.dev: 14.994457996924245\n",
            "\n",
            "---Product price category Accessories---\n",
            "Mode: 14.989999771118164\n",
            "Median: 24.299999237060547\n",
            "Mean: 42.56531748144318\n",
            "S.dev: 48.17848469085249\n",
            "\n",
            "---Product price category TopsTees---\n",
            "Mode: 25.0\n",
            "Median: 30.734999656677246\n",
            "Mean: 41.34163825657434\n",
            "S.dev: 33.06659936901993\n",
            "\n",
            "---Product price category SleepLounge---\n",
            "Mode: 25.0\n",
            "Median: 36.9900016784668\n",
            "Mean: 49.21876917324249\n",
            "S.dev: 41.54557389314179\n",
            "\n",
            "---Product price category OuterwearCoats---\n",
            "Mode: 79.98999786376953\n",
            "Median: 109.9499969482422\n",
            "Mean: 146.01709143410267\n",
            "S.dev: 138.24616679024174\n",
            "\n",
            "---Product price category SuitsSportCoats---\n",
            "Mode: 99.98999786376952\n",
            "Median: 99.5\n",
            "Mean: 126.55561555803064\n",
            "S.dev: 98.77098536263934\n",
            "\n",
            "---Product price category FashionHoodiesSweatshirts---\n",
            "Mode: 29.989999771118164\n",
            "Median: 49.5\n",
            "Mean: 53.91559489976938\n",
            "S.dev: 36.342251695465976\n",
            "\n",
            "---Product price category Plus---\n",
            "Mode: 25.0\n",
            "Median: 24.994999885559082\n",
            "Mean: 38.42532988604266\n",
            "S.dev: 51.023775825806844\n",
            "\n",
            "---Product price category Suits---\n",
            "Mode: 127.51000213623048\n",
            "Median: 122.70999908447266\n",
            "Mean: 116.1640958380192\n",
            "S.dev: 46.29106300823557\n",
            "\n",
            "---Product price category Skirts---\n",
            "Mode: 25.0\n",
            "Median: 36.9900016784668\n",
            "Mean: 52.325231732724475\n",
            "S.dev: 61.52405207007531\n",
            "\n",
            "---Product price category Dresses---\n",
            "Mode: 46.9900016784668\n",
            "Median: 59.0\n",
            "Mean: 84.20327769574071\n",
            "S.dev: 81.34487805308002\n",
            "\n",
            "---Product price category Leggings---\n",
            "Mode: 9.949999809265137\n",
            "Median: 16.950000762939453\n",
            "Mean: 27.149663078869487\n",
            "S.dev: 34.047978232176504\n",
            "\n",
            "---Product price category Intimates---\n",
            "Mode: 36.0\n",
            "Median: 28.0\n",
            "Mean: 33.70738049588665\n",
            "S.dev: 30.144316003294676\n",
            "\n",
            "---Product price category Maternity---\n",
            "Mode: 25.0\n",
            "Median: 39.97999954223633\n",
            "Mean: 50.799209259666156\n",
            "S.dev: 37.36081079900552\n",
            "\n",
            "---Product price category ClothingSets---\n",
            "Mode: 57.9900016784668\n",
            "Median: 70.0\n",
            "Mean: 84.84405414478199\n",
            "S.dev: 42.27038411777374\n",
            "\n",
            "---Product price category PantsCapris---\n",
            "Mode: 25.0\n",
            "Median: 40.0\n",
            "Mean: 54.70554671357545\n",
            "S.dev: 58.76359426623735\n",
            "\n",
            "---Product price category SocksHosiery---\n",
            "Mode: 25.0\n",
            "Median: 14.0\n",
            "Mean: 16.759954925771947\n",
            "S.dev: 11.288459412174005\n",
            "\n",
            "---Product price category BlazersJackets---\n",
            "Mode: 44.77999877929688\n",
            "Median: 59.9900016784668\n",
            "Mean: 92.59508041562032\n",
            "S.dev: 92.25042713555432\n",
            "\n",
            "---Product price category JumpsuitsRompers---\n",
            "Mode: 24.989999771118164\n",
            "Median: 24.944999694824222\n",
            "Mean: 45.42216063134464\n",
            "S.dev: 62.325008995240815\n"
          ]
        }
      ],
      "source": [
        "# Central Tedency\n",
        "Swim = TheLook.loc[TheLook['category']=='Swim', :]\n",
        "print('---Product price category swim---')\n",
        "print ('Mode: ' + str(Swim['retail_price'].mode()[0]))\n",
        "print ('Median: ' + str(Swim['retail_price'].median()))\n",
        "print ('Mean: ' + str(Swim['retail_price'].mean()))\n",
        "print ('S.dev: ' + str(Swim['retail_price'].std()))\n",
        "print(      )\n",
        "\n",
        "Jeans = TheLook.loc[TheLook['category']=='Jeans', :]\n",
        "print('---Product price category Jeans---')\n",
        "print ('Mode: ' + str(Jeans['retail_price'].mode()[0]))\n",
        "print ('Median: ' + str(Jeans['retail_price'].median()))\n",
        "print ('Mean: ' + str(Jeans['retail_price'].mean()))\n",
        "print ('S.dev: ' + str(Jeans['retail_price'].std()))\n",
        "print(      )\n",
        "\n",
        "Pants = TheLook.loc[TheLook['category']=='Pants', :]\n",
        "print('---Product price category Pants---')\n",
        "print ('Mode: ' + str(Pants['retail_price'].mode()[0]))\n",
        "print ('Median: ' + str(Pants['retail_price'].median()))\n",
        "print ('Mean: ' + str(Pants['retail_price'].mean()))\n",
        "print ('S.dev: ' + str(Pants['retail_price'].std()))\n",
        "print(      )\n",
        "\n",
        "Socks = TheLook.loc[TheLook['category']=='Socks', :]\n",
        "print('---Product price category Socks---')\n",
        "print ('Mode: ' + str(Socks['retail_price'].mode()[0]))\n",
        "print ('Median: ' + str(Socks['retail_price'].median()))\n",
        "print ('Mean: ' + str(Socks['retail_price'].mean()))\n",
        "print ('S.dev: ' + str(Socks['retail_price'].std()))\n",
        "print(      )\n",
        "\n",
        "Active = TheLook.loc[TheLook['category']=='Active', :]\n",
        "print('---Product price category Active---')\n",
        "print ('Mode: ' + str(Active['retail_price'].mode()[0]))\n",
        "print ('Median: ' + str(Active['retail_price'].median()))\n",
        "print ('Mean: ' + str(Active['retail_price'].mean()))\n",
        "print ('S.dev: ' + str(Active['retail_price'].std()))\n",
        "print(      )\n",
        "\n",
        "Shorts = TheLook.loc[TheLook['category']=='Shorts', :]\n",
        "print('---Product price category Shorts---')\n",
        "print ('Mode: ' + str(Shorts['retail_price'].mode()[0]))\n",
        "print ('Median: ' + str(Shorts['retail_price'].median()))\n",
        "print ('Mean: ' + str(Shorts['retail_price'].mean()))\n",
        "print ('S.dev: ' + str(Shorts['retail_price'].std()))\n",
        "print(      )\n",
        "\n",
        "Sweaters = TheLook.loc[TheLook['category']=='Sweaters', :]\n",
        "print('---Product price category Sweaters---')\n",
        "print ('Mode: ' + str(Sweaters['retail_price'].mode()[0]))\n",
        "print ('Median: ' + str(Sweaters['retail_price'].median()))\n",
        "print ('Mean: ' + str(Sweaters['retail_price'].mean()))\n",
        "print ('S.dev: ' + str(Sweaters['retail_price'].std()))\n",
        "print(      )\n",
        "\n",
        "Underwear = TheLook.loc[TheLook['category']=='Underwear', :]\n",
        "print('---Product price category Underwear---')\n",
        "print ('Mode: ' + str(Underwear['retail_price'].mode()[0]))\n",
        "print ('Median: ' + str(Underwear['retail_price'].median()))\n",
        "print ('Mean: ' + str(Underwear['retail_price'].mean()))\n",
        "print ('S.dev: ' + str(Underwear['retail_price'].std()))\n",
        "print(      )\n",
        "\n",
        "Accessories = TheLook.loc[TheLook['category']=='Accessories', :]\n",
        "print('---Product price category Accessories---')\n",
        "print ('Mode: ' + str(Accessories['retail_price'].mode()[0]))\n",
        "print ('Median: ' + str(Accessories['retail_price'].median()))\n",
        "print ('Mean: ' + str(Accessories['retail_price'].mean()))\n",
        "print ('S.dev: ' + str(Accessories['retail_price'].std()))\n",
        "print(      )\n",
        "\n",
        "TopsTees = TheLook.loc[TheLook['category']=='Tops & Tees', :]\n",
        "print('---Product price category TopsTees---')\n",
        "print ('Mode: ' + str(TopsTees['retail_price'].mode()[0]))\n",
        "print ('Median: ' + str(TopsTees['retail_price'].median()))\n",
        "print ('Mean: ' + str(TopsTees['retail_price'].mean()))\n",
        "print ('S.dev: ' + str(TopsTees['retail_price'].std()))\n",
        "print(      )\n",
        "\n",
        "SleepLounge = TheLook.loc[TheLook['category']=='Sleep & Lounge', :]\n",
        "print('---Product price category SleepLounge---')\n",
        "print ('Mode: ' + str(SleepLounge['retail_price'].mode()[0]))\n",
        "print ('Median: ' + str(SleepLounge['retail_price'].median()))\n",
        "print ('Mean: ' + str(SleepLounge['retail_price'].mean()))\n",
        "print ('S.dev: ' + str(SleepLounge['retail_price'].std()))\n",
        "print(      )\n",
        "\n",
        "OuterwearCoats = TheLook.loc[TheLook['category']=='Outerwear & Coats', :]\n",
        "print('---Product price category OuterwearCoats---')\n",
        "print ('Mode: ' + str(OuterwearCoats['retail_price'].mode()[0]))\n",
        "print ('Median: ' + str(OuterwearCoats['retail_price'].median()))\n",
        "print ('Mean: ' + str(OuterwearCoats['retail_price'].mean()))\n",
        "print ('S.dev: ' + str(OuterwearCoats['retail_price'].std()))\n",
        "print(      )\n",
        "\n",
        "SuitsSportCoats = TheLook.loc[TheLook['category']=='Suits & Sport Coats', :]\n",
        "print('---Product price category SuitsSportCoats---')\n",
        "print ('Mode: ' + str(SuitsSportCoats['retail_price'].mode()[0]))\n",
        "print ('Median: ' + str(SuitsSportCoats['retail_price'].median()))\n",
        "print ('Mean: ' + str(SuitsSportCoats['retail_price'].mean()))\n",
        "print ('S.dev: ' + str(SuitsSportCoats['retail_price'].std()))\n",
        "print(      )\n",
        "\n",
        "FashionHoodiesSweatshirts = TheLook.loc[TheLook['category']=='Fashion Hoodies & Sweatshirts', :]\n",
        "print('---Product price category FashionHoodiesSweatshirts---')\n",
        "print ('Mode: ' + str(FashionHoodiesSweatshirts['retail_price'].mode()[0]))\n",
        "print ('Median: ' + str(FashionHoodiesSweatshirts['retail_price'].median()))\n",
        "print ('Mean: ' + str(FashionHoodiesSweatshirts['retail_price'].mean()))\n",
        "print ('S.dev: ' + str(FashionHoodiesSweatshirts['retail_price'].std()))\n",
        "print(      )\n",
        "\n",
        "Plus = TheLook.loc[TheLook['category']=='Plus', :]\n",
        "print('---Product price category Plus---')\n",
        "print ('Mode: ' + str(Plus['retail_price'].mode()[0]))\n",
        "print ('Median: ' + str(Plus['retail_price'].median()))\n",
        "print ('Mean: ' + str(Plus['retail_price'].mean()))\n",
        "print ('S.dev: ' + str(Plus['retail_price'].std()))\n",
        "print(      )\n",
        "\n",
        "Suits = TheLook.loc[TheLook['category']=='Suits', :]\n",
        "print('---Product price category Suits---')\n",
        "print ('Mode: ' + str(Suits['retail_price'].mode()[0]))\n",
        "print ('Median: ' + str(Suits['retail_price'].median()))\n",
        "print ('Mean: ' + str(Suits['retail_price'].mean()))\n",
        "print ('S.dev: ' + str(Suits['retail_price'].std()))\n",
        "print(      )\n",
        "\n",
        "Skirts = TheLook.loc[TheLook['category']=='Skirts', :]\n",
        "print('---Product price category Skirts---')\n",
        "print ('Mode: ' + str(Skirts['retail_price'].mode()[0]))\n",
        "print ('Median: ' + str(Skirts['retail_price'].median()))\n",
        "print ('Mean: ' + str(Skirts['retail_price'].mean()))\n",
        "print ('S.dev: ' + str(Skirts['retail_price'].std()))\n",
        "print(      )\n",
        "\n",
        "Dresses = TheLook.loc[TheLook['category']=='Dresses', :]\n",
        "print('---Product price category Dresses---')\n",
        "print ('Mode: ' + str(Dresses['retail_price'].mode()[0]))\n",
        "print ('Median: ' + str(Dresses['retail_price'].median()))\n",
        "print ('Mean: ' + str(Dresses['retail_price'].mean()))\n",
        "print ('S.dev: ' + str(Dresses['retail_price'].std()))\n",
        "print(      )\n",
        "\n",
        "Leggings = TheLook.loc[TheLook['category']=='Leggings', :]\n",
        "print('---Product price category Leggings---')\n",
        "print ('Mode: ' + str(Leggings['retail_price'].mode()[0]))\n",
        "print ('Median: ' + str(Leggings['retail_price'].median()))\n",
        "print ('Mean: ' + str(Leggings['retail_price'].mean()))\n",
        "print ('S.dev: ' + str(Leggings['retail_price'].std()))\n",
        "print(      )\n",
        "\n",
        "Intimates = TheLook.loc[TheLook['category']=='Intimates', :]\n",
        "print('---Product price category Intimates---')\n",
        "print ('Mode: ' + str(Intimates['retail_price'].mode()[0]))\n",
        "print ('Median: ' + str(Intimates['retail_price'].median()))\n",
        "print ('Mean: ' + str(Intimates['retail_price'].mean()))\n",
        "print ('S.dev: ' + str(Intimates['retail_price'].std()))\n",
        "print(      )\n",
        "\n",
        "Maternity = TheLook.loc[TheLook['category']=='Maternity', :]\n",
        "print('---Product price category Maternity---')\n",
        "print ('Mode: ' + str(Maternity['retail_price'].mode()[0]))\n",
        "print ('Median: ' + str(Maternity['retail_price'].median()))\n",
        "print ('Mean: ' + str(Maternity['retail_price'].mean()))\n",
        "print ('S.dev: ' + str(Maternity['retail_price'].std()))\n",
        "print(      )\n",
        "\n",
        "ClothingSets = TheLook.loc[TheLook['category']=='Clothing Sets', :]\n",
        "print('---Product price category ClothingSets---')\n",
        "print ('Mode: ' + str(ClothingSets['retail_price'].mode()[0]))\n",
        "print ('Median: ' + str(ClothingSets['retail_price'].median()))\n",
        "print ('Mean: ' + str(ClothingSets['retail_price'].mean()))\n",
        "print ('S.dev: ' + str(ClothingSets['retail_price'].std()))\n",
        "print(      )\n",
        "\n",
        "PantsCapris = TheLook.loc[TheLook['category']=='Pants & Capris', :]\n",
        "print('---Product price category PantsCapris---')\n",
        "print ('Mode: ' + str(PantsCapris['retail_price'].mode()[0]))\n",
        "print ('Median: ' + str(PantsCapris['retail_price'].median()))\n",
        "print ('Mean: ' + str(PantsCapris['retail_price'].mean()))\n",
        "print ('S.dev: ' + str(PantsCapris['retail_price'].std()))\n",
        "print(      )\n",
        "\n",
        "SocksHosiery = TheLook.loc[TheLook['category']=='Socks & Hosiery', :]\n",
        "print('---Product price category SocksHosiery---')\n",
        "print ('Mode: ' + str(SocksHosiery['retail_price'].mode()[0]))\n",
        "print ('Median: ' + str(SocksHosiery['retail_price'].median()))\n",
        "print ('Mean: ' + str(SocksHosiery['retail_price'].mean()))\n",
        "print ('S.dev: ' + str(SocksHosiery['retail_price'].std()))\n",
        "print(      )\n",
        "\n",
        "BlazersJackets = TheLook.loc[TheLook['category']=='Blazers & Jackets', :]\n",
        "print('---Product price category BlazersJackets---')\n",
        "print ('Mode: ' + str(BlazersJackets['retail_price'].mode()[0]))\n",
        "print ('Median: ' + str(BlazersJackets['retail_price'].median()))\n",
        "print ('Mean: ' + str(BlazersJackets['retail_price'].mean()))\n",
        "print ('S.dev: ' + str(BlazersJackets['retail_price'].std()))\n",
        "print(      )\n",
        "\n",
        "JumpsuitsRompers = TheLook.loc[TheLook['category']=='Jumpsuits & Rompers', :]\n",
        "print('---Product price category JumpsuitsRompers---')\n",
        "print ('Mode: ' + str(JumpsuitsRompers['retail_price'].mode()[0]))\n",
        "print ('Median: ' + str(JumpsuitsRompers['retail_price'].median()))\n",
        "print ('Mean: ' + str(JumpsuitsRompers['retail_price'].mean()))\n",
        "print ('S.dev: ' + str(JumpsuitsRompers['retail_price'].std()))"
      ]
    },
    {
      "cell_type": "markdown",
      "metadata": {
        "id": "3Oig6J0xPeox"
      },
      "source": [
        "Based on the value of centarl tendency, that the underware product category has the most standard deviation value because it will use the data to find the value of the size of the spreader without outlier data, then first look at the shape of the distribution."
      ]
    },
    {
      "cell_type": "code",
      "execution_count": null,
      "metadata": {
        "colab": {
          "base_uri": "https://localhost:8080/",
          "height": 1000
        },
        "id": "7kNzv4EGPeox",
        "outputId": "bdcfe214-35de-49b0-f6f2-8c35d809b2dc"
      },
      "outputs": [
        {
          "output_type": "display_data",
          "data": {
            "text/plain": [
              "<Figure size 720x576 with 1 Axes>"
            ],
            "image/png": "[encoded data removed]"
          },
          "metadata": {
            "needs_background": "light"
          }
        },
        {
          "output_type": "display_data",
          "data": {
            "text/plain": [
              "<Figure size 432x288 with 1 Axes>"
            ],
            "image/png": "[encoded data removed]"
          },
          "metadata": {
            "needs_background": "light"
          }
        },
        {
          "output_type": "stream",
          "name": "stdout",
          "text": [
            "retail_price skewness: 6.681155435060603\n",
            "retail_price kurtosis: 88.0401882528836\n"
          ]
        },
        {
          "output_type": "display_data",
          "data": {
            "text/plain": [
              "<Figure size 432x288 with 1 Axes>"
            ],
            "image/png": "[encoded data removed]"
          },
          "metadata": {
            "needs_background": "light"
          }
        },
        {
          "output_type": "stream",
          "name": "stdout",
          "text": [
            "\n",
            "\n"
          ]
        }
      ],
      "source": [
        "# UNDERWEAR PRODUCT CATEGORY DISTRIBUTION\n",
        "\n",
        "# Visualization of Box Plot of Grade\n",
        "\n",
        "%matplotlib inline\n",
        "import scipy.stats as stats\n",
        "\n",
        "# Plot a box-whisker chart\n",
        "Underwear['retail_price'].plot(kind='box', title='Garbage Weight Distribution at WILCAB Sites', figsize=(10,8))\n",
        "plt.show()\n",
        "\n",
        "# Visualization of Distribution\n",
        "Distribusi = Underwear['retail_price']\n",
        "density = stats.gaussian_kde(Distribusi)\n",
        "n, x, _ = plt.hist(Distribusi, histtype='step', bins=25, density = True)  \n",
        "plt.plot(x, density(x)*2**7.5)\n",
        "plt.axvline(Distribusi.mean(), color='magenta', linestyle='dashed', linewidth=3)\n",
        "plt.axvline(Distribusi.median(), color='green', linestyle='dashed', linewidth=2)\n",
        "plt.show()\n",
        "\n",
        "# Get Skewness and Kurtosis Score\n",
        "kemiringan = ['retail_price']\n",
        "for col in kemiringan:\n",
        "    print(Underwear[col].name + ' skewness: ' + str(Underwear[col].skew()))\n",
        "    print(Underwear[col].name + ' kurtosis: ' + str(Underwear[col].kurt()))\n",
        "    n, x, _ = plt.hist(Underwear[col], histtype='step', bins=25, density = True)\n",
        "    plt.plot(x, density(x)*6)\n",
        "    plt.show()\n",
        "    print('\\n')"
      ]
    },
    {
      "cell_type": "markdown",
      "metadata": {
        "id": "bs4aUXfkPeoy"
      },
      "source": [
        "Outlier Value Detection\n",
        "\n",
        "The method to check the oulier value can use Tukey with a 5-digit summary to detect outliers. The bottom line is that data that deviates from the median above a certain threshold will be marked as outliers. The formula for Tukey's outlier detection\n",
        "\n",
        "${q_{3}+1.5*IQR}$\n",
        "\n",
        "${q_{1}-1.5*IQR}$"
      ]
    },
    {
      "cell_type": "code",
      "execution_count": null,
      "metadata": {
        "id": "q97WTJBBPeoy"
      },
      "outputs": [],
      "source": [
        "Q1 = Underwear['retail_price'].quantile(0.25)\n",
        "Q3 = Underwear['retail_price'].quantile(0.75)\n",
        "IQR = Q3-Q1\n",
        "Underwear2 = Underwear[~(((Underwear['retail_price'] < (Q1-1.5*IQR)) | (Underwear['retail_price'] > (Q3+1.5*IQR))))]"
      ]
    },
    {
      "cell_type": "code",
      "execution_count": null,
      "metadata": {
        "id": "rz7JuE2UPeoz"
      },
      "outputs": [],
      "source": [
        "Q1 = Underwear2['retail_price'].quantile(0.25)\n",
        "Q3 = Underwear2['retail_price'].quantile(0.75)\n",
        "IQR = Q3-Q1\n",
        "Underwear3 = Underwear2[~(((Underwear2['retail_price'] < (Q1-1.5*IQR)) | (Underwear2['retail_price'] > (Q3+1.5*IQR))))]"
      ]
    },
    {
      "cell_type": "code",
      "execution_count": null,
      "metadata": {
        "colab": {
          "base_uri": "https://localhost:8080/",
          "height": 1000
        },
        "id": "vPn01Y9uPeoz",
        "outputId": "db28ac3e-0d19-4d1b-df48-2f17261a73bc"
      },
      "outputs": [
        {
          "output_type": "display_data",
          "data": {
            "text/plain": [
              "<Figure size 720x576 with 1 Axes>"
            ],
            "image/png": "[encoded data removed]"
          },
          "metadata": {
            "needs_background": "light"
          }
        },
        {
          "output_type": "display_data",
          "data": {
            "text/plain": [
              "<Figure size 432x288 with 1 Axes>"
            ],
            "image/png": "[encoded data removed]"
          },
          "metadata": {
            "needs_background": "light"
          }
        },
        {
          "output_type": "stream",
          "name": "stdout",
          "text": [
            "retail_price skewness: 0.12248682274161883\n",
            "retail_price kurtosis: -0.14190799945954602\n"
          ]
        },
        {
          "output_type": "display_data",
          "data": {
            "text/plain": [
              "<Figure size 432x288 with 1 Axes>"
            ],
            "image/png": "[encoded data removed]"
          },
          "metadata": {
            "needs_background": "light"
          }
        },
        {
          "output_type": "stream",
          "name": "stdout",
          "text": [
            "\n",
            "\n"
          ]
        }
      ],
      "source": [
        "# VISUALIZATION OF UNDERWEAR CATEGORY PRODUCTS WITHOUT OUTLIER\n",
        "\n",
        "# Visualization of Box Plot of Grade\n",
        "\n",
        "%matplotlib inline\n",
        "import scipy.stats as stats\n",
        "\n",
        "# Plot a box-whisker chart\n",
        "Underwear3['retail_price'].plot(kind='box', title='Garbage Weight Distribution at WILCAB Sites', figsize=(10,8))\n",
        "plt.show()\n",
        "\n",
        "# Visualization of Distribution\n",
        "DistribusUnderwear3 = Underwear3['retail_price']\n",
        "density = stats.gaussian_kde(DistribusUnderwear3)\n",
        "n, x, _ = plt.hist(DistribusUnderwear3, histtype='step', bins=25, density = True)  \n",
        "plt.plot(x, density(x)*2**7.5)\n",
        "plt.axvline(DistribusUnderwear3.mean(), color='magenta', linestyle='dashed', linewidth=3)\n",
        "plt.axvline(DistribusUnderwear3.median(), color='green', linestyle='dashed', linewidth=2)\n",
        "plt.show()\n",
        "\n",
        "# Get Skewness and Kurtosis Score\n",
        "kemiringan = ['retail_price']\n",
        "for col in kemiringan:\n",
        "    print(Underwear3[col].name + ' skewness: ' + str(Underwear2[col].skew()))\n",
        "    print(Underwear3[col].name + ' kurtosis: ' + str(Underwear2[col].kurt()))\n",
        "    n, x, _ = plt.hist(Underwear2[col], histtype='step', bins=25, density = True)\n",
        "    plt.plot(x, density(x)*6)\n",
        "    plt.show()\n",
        "    print('\\n')"
      ]
    },
    {
      "cell_type": "markdown",
      "metadata": {
        "id": "6dj0vSWEPeo0"
      },
      "source": [
        "Comparison of underware product categories before the data is cleaned from outliers with after the data is cleaned from ouliers."
      ]
    },
    {
      "cell_type": "code",
      "execution_count": null,
      "metadata": {
        "colab": {
          "base_uri": "https://localhost:8080/"
        },
        "id": "H130kqTXPeo3",
        "outputId": "83dd2586-fc2c-49c9-c75f-a4c37b665c8d"
      },
      "outputs": [
        {
          "output_type": "stream",
          "name": "stdout",
          "text": [
            "---Product price category Underwear---\n",
            "Min: 5.989999771118164\n",
            "Max: 283.3399963378906\n",
            "Mode: 25.0\n",
            "Median: 25.0\n",
            "Mean: 27.156001869808225\n",
            "S.dev: 14.994457996924245\n",
            "\n",
            "---Product price category Underwear without outlier data---\n",
            "Min: 6.829999923706056\n",
            "Max: 42.0\n",
            "Mode: 25.0\n",
            "Median: 25.0\n",
            "Mean: 24.580895701261955\n",
            "S.dev: 7.08802163478223\n"
          ]
        }
      ],
      "source": [
        "print('---Product price category Underwear---')\n",
        "print ('Min: ' + str(Underwear['retail_price'].min()))\n",
        "print ('Max: ' + str(Underwear['retail_price'].max()))\n",
        "print ('Mode: ' + str(Underwear['retail_price'].mode()[0]))\n",
        "print ('Median: ' + str(Underwear['retail_price'].median()))\n",
        "print ('Mean: ' + str(Underwear['retail_price'].mean()))\n",
        "print ('S.dev: ' + str(Underwear['retail_price'].std()))\n",
        "print(      )\n",
        "print('---Product price category Underwear without outlier data---')\n",
        "print ('Min: ' + str(Underwear3['retail_price'].min()))\n",
        "print ('Max: ' + str(Underwear3['retail_price'].max()))\n",
        "print ('Mode: ' + str(Underwear3['retail_price'].mode()[0]))\n",
        "print ('Median: ' + str(Underwear3['retail_price'].median()))\n",
        "print ('Mean: ' + str(Underwear3['retail_price'].mean()))\n",
        "print ('S.dev: ' + str(Underwear3['retail_price'].std()))"
      ]
    },
    {
      "cell_type": "markdown",
      "metadata": {
        "id": "jMkh3EqmPeo3"
      },
      "source": [
        "**Range**, a simple way to measure variance in a data set is to identify the difference between the lowest and highest values. This is called the range, and is calculated by subtracting the minimum value from the maximum value."
      ]
    },
    {
      "cell_type": "code",
      "execution_count": null,
      "metadata": {
        "colab": {
          "base_uri": "https://localhost:8080/"
        },
        "id": "NYlyF1hXPeo4",
        "outputId": "85c21dd3-d768-4de6-d3f0-5f52257c17fb"
      },
      "outputs": [
        {
          "output_type": "stream",
          "name": "stdout",
          "text": [
            "retail_price range: 35.170000076293945\n"
          ]
        }
      ],
      "source": [
        "# Range\n",
        "\n",
        "Range = ['retail_price']\n",
        "for col in Range:\n",
        "    print(Underwear3[col].name + ' range: ' + str(Underwear3[col].max() -Underwear3[col].min()))"
      ]
    },
    {
      "cell_type": "markdown",
      "metadata": {
        "id": "XTwacmrYPeo6"
      },
      "source": [
        "**Variance**, how to show how far the data that is owned is spread from the average value. Meanwhile, **standard deviation** is a way to find out how much the value or amount of data differs from the average."
      ]
    },
    {
      "cell_type": "code",
      "execution_count": null,
      "metadata": {
        "colab": {
          "base_uri": "https://localhost:8080/"
        },
        "id": "2R_6ui57Peo7",
        "outputId": "7e0a865d-fc1f-49fb-ca74-81e5cfc5bbb6"
      },
      "outputs": [
        {
          "output_type": "stream",
          "name": "stdout",
          "text": [
            "Value variance : 50.24005069514096\n",
            "Value standard deviation : 7.08802163478223\n"
          ]
        }
      ],
      "source": [
        "# Get the Variance\n",
        "print(f'Value variance :', Underwear3['retail_price'].var())\n",
        "# Get the Standard Deviation\n",
        "print(f'Value standard deviation :', Underwear3['retail_price'].std())"
      ]
    },
    {
      "cell_type": "markdown",
      "metadata": {
        "id": "13JINbvMPeo8"
      },
      "source": [
        "## 6b - Inferential Statistics\n",
        "\n",
        "In this milestone, one sample t-test one tailed and Independent two test analysis will be used"
      ]
    },
    {
      "cell_type": "markdown",
      "source": [
        "### Inferential Statistics - One Sample T-Test One Tailed\n",
        "\n",
        "one sample t-test one tailed, is used to see whether or not there is a significant increase in an object."
      ],
      "metadata": {
        "id": "aDcu8wx169Lv"
      }
    },
    {
      "cell_type": "code",
      "execution_count": null,
      "metadata": {
        "id": "8XyMwqmsPeo8"
      },
      "outputs": [],
      "source": [
        "TheLook['SaleOrderan'] = TheLook['sale_price']# income data variable contains quantity control data on unit price items\n",
        "TheLook['date'] = TheLook['created_at']# data variable containing the year of production\n",
        "discount = TheLook[['date','SaleOrderan']].groupby('date').sum() # see daily_income from the quantity control data at the time"
      ]
    },
    {
      "cell_type": "code",
      "execution_count": null,
      "metadata": {
        "colab": {
          "base_uri": "https://localhost:8080/"
        },
        "id": "FP87mwsEPeo9",
        "outputId": "4b118979-8e0e-46c2-e060-ff9a8d2c3679"
      },
      "outputs": [
        {
          "output_type": "execute_result",
          "data": {
            "text/plain": [
              "0    25.0\n",
              "dtype: float64"
            ]
          },
          "metadata": {},
          "execution_count": 33
        }
      ],
      "source": [
        "TheLook['sale_price'].mode()"
      ]
    },
    {
      "cell_type": "code",
      "execution_count": null,
      "metadata": {
        "colab": {
          "base_uri": "https://localhost:8080/"
        },
        "id": "4XaoPUU1Peo9",
        "outputId": "2455f300-7503-441c-d628-9e6aad0bf6be"
      },
      "outputs": [
        {
          "output_type": "stream",
          "name": "stdout",
          "text": [
            "Price sale_price Sales : $59.0\n"
          ]
        }
      ],
      "source": [
        "print('Price sale_price Sales : ${}'.format(np.round(discount['SaleOrderan'].mean()))) # view average"
      ]
    },
    {
      "cell_type": "markdown",
      "metadata": {
        "id": "uJA7M51_Peo-"
      },
      "source": [
        "To check whether the discounted price to the shop's customers increases significantly or not, we will conduct a one-sided single sample and set a significance level of 0.05. We use this method because we only test the variables and compare the sample (the most frequently used discounted price data is $25) and the population (we assume it is discounted price data of the last few days).\n",
        "\n",
        "Hypothesis\n",
        "\n",
        "**H0: μ <= \\$59** (There has been a significant discount on product prices at the look shop)\n",
        "\n",
        "**H1: μ > \\$59** (There is a significant discount on product prices at the look shop)"
      ]
    },
    {
      "cell_type": "code",
      "execution_count": null,
      "metadata": {
        "colab": {
          "base_uri": "https://localhost:8080/"
        },
        "id": "Zq77jtORPeo-",
        "outputId": "b42a6aaa-c614-4c3c-a84b-039aa273740d"
      },
      "outputs": [
        {
          "output_type": "stream",
          "name": "stdout",
          "text": [
            "P-value: 0.0\n",
            "t-statistics: 88.07460807419362\n"
          ]
        }
      ],
      "source": [
        "# wanted to see if 59 dollars was significant\n",
        "# stats.ttest_1samp syntax for one sample t-test\n",
        "# Comparing the cut price with 25 as a benchmark, which often happens with discount prices\n",
        "t_stat,p_val = stats.ttest_1samp(discount.SaleOrderan,25)\n",
        "print('P-value:',p_val/2) # The p-value is divided by 2 because the output is a two-sided p-value\n",
        "print('t-statistics:',t_stat)"
      ]
    },
    {
      "cell_type": "markdown",
      "metadata": {
        "id": "BGY1x4m0Peo_"
      },
      "source": [
        "The result of 0.0 is less than 0.05 so hereby rejects h0. which means that there is a significant difference in some discounted prices on products recently at the look store."
      ]
    },
    {
      "cell_type": "code",
      "execution_count": null,
      "metadata": {
        "colab": {
          "base_uri": "https://localhost:8080/",
          "height": 395
        },
        "id": "MD0J09GQPeo_",
        "outputId": "58262f0c-b79f-47c7-9078-21973e006259"
      },
      "outputs": [
        {
          "output_type": "stream",
          "name": "stderr",
          "text": [
            "/usr/local/lib/python3.7/dist-packages/seaborn/distributions.py:2619: FutureWarning: `distplot` is a deprecated function and will be removed in a future version. Please adapt your code to use either `displot` (a figure-level function with similar flexibility) or `histplot` (an axes-level function for histograms).\n",
            "  warnings.warn(msg, FutureWarning)\n"
          ]
        },
        {
          "output_type": "execute_result",
          "data": {
            "text/plain": [
              "<matplotlib.legend.Legend at 0x7f56e00c45d0>"
            ]
          },
          "metadata": {},
          "execution_count": 36
        },
        {
          "output_type": "display_data",
          "data": {
            "text/plain": [
              "<Figure size 720x360 with 1 Axes>"
            ],
            "image/png": "[encoded data removed]"
          },
          "metadata": {
            "needs_background": "light"
          }
        }
      ],
      "source": [
        "# Visualization distribusi one sampel t-test\n",
        "Product_Discounts = np.random.normal(discount.SaleOrderan.mean(), discount.SaleOrderan.std(), 25)\n",
        "\n",
        "ci = stats.norm.interval(0.95, discount.SaleOrderan.mean(), discount.SaleOrderan.std())\n",
        "\n",
        "plt.figure(figsize=(10,5))\n",
        "sns.distplot(Product_Discounts, label='Discounts', color='blue')\n",
        "plt.axvline(discount.SaleOrderan.mean(), color='red', linewidth=2, label='Product Discounts')\n",
        "plt.axvline(ci[1], color='green', linestyle='dashed', linewidth=2, label='confidence threshold of 95% or Confidence Level 0.05')\n",
        "plt.axvline(Product_Discounts.mean() + t_stat*Product_Discounts.std(), color='black', linestyle='dashed', linewidth=2, label = 'Alternative Hypothesis')\n",
        "plt.legend()"
      ]
    },
    {
      "cell_type": "markdown",
      "source": [
        "### Inferential Statistics - Independent Sample T-Test"
      ],
      "metadata": {
        "id": "xETb-QVz7me6"
      }
    },
    {
      "cell_type": "markdown",
      "metadata": {
        "id": "KxHgygjOPepA"
      },
      "source": [
        "Independent sample t-test is a test used to determine whether there is a difference in the mean between two independent groups or two unpaired groups with the intention that the two groups of data come from different subjects. So I will test the difference between the average price of Underware products and the prices of Socks & Hosiery products."
      ]
    },
    {
      "cell_type": "code",
      "execution_count": null,
      "metadata": {
        "colab": {
          "base_uri": "https://localhost:8080/"
        },
        "id": "olc4oDFbPepA",
        "outputId": "c809fcd5-5316-41dc-9258-5be81c843dd5"
      },
      "outputs": [
        {
          "output_type": "stream",
          "name": "stdout",
          "text": [
            "Average Underwear Price :  27.156001869808225\n",
            "Average Socks & Hosiery Price :  16.759954925771947\n"
          ]
        }
      ],
      "source": [
        "# Seeing the average\n",
        "PriceUnderwear = TheLook[TheLook.category == 'Underwear'].groupby('created_at').sum()['retail_price'] \n",
        "PriceSocksHosiery = TheLook[TheLook.category == 'Socks & Hosiery'].groupby('created_at').sum()['retail_price']\n",
        "\n",
        "print(\"Average Underwear Price : \",PriceUnderwear.mean())\n",
        "print(\"Average Socks & Hosiery Price : \",PriceSocksHosiery.mean())"
      ]
    },
    {
      "cell_type": "markdown",
      "metadata": {
        "id": "IjNM-dn2PepA"
      },
      "source": [
        "The Average Price of Underware is 27 and the Average Price of Socks & Hosiery is worth 16, are there both prices for these products?\n",
        "\n",
        "Hypothesis\n",
        "\n",
        "**H0: μ_ Underware(27) = μ_Socks & Hosiery(16)** (The average difference in the price of underware products is the same as sorks & hosiery)\n",
        "\n",
        "**H1: μ_ Underware(27) = μ_Socks & Hosiery(16)** (The difference in the average price of underware products is not the same as sorks & hosiery)"
      ]
    },
    {
      "cell_type": "code",
      "execution_count": null,
      "metadata": {
        "colab": {
          "base_uri": "https://localhost:8080/"
        },
        "id": "VUBdHPBZPepB",
        "outputId": "906f9c6f-261e-4b48-d7b0-6a41f923ce6f"
      },
      "outputs": [
        {
          "output_type": "stream",
          "name": "stdout",
          "text": [
            "P-value: 2.207027843691716e-50\n",
            "t-statistics: 15.416477251058861\n"
          ]
        }
      ],
      "source": [
        "# If independent use stats.ttest_ind\n",
        "t_stat, p_val = stats.ttest_ind(PriceUnderwear,PriceSocksHosiery)\n",
        "print('P-value:',p_val) \n",
        "print('t-statistics:',t_stat)"
      ]
    },
    {
      "cell_type": "markdown",
      "metadata": {
        "id": "CbC9cxfEPepC"
      },
      "source": [
        "The p-value is 0.00000 < (smaller) than the significance level is 0.05, so it rejects the hypothesis H0. So that Hypothesis H1 is accepted, the average difference in the price of underware products is not the same as sorks & hosiery."
      ]
    },
    {
      "cell_type": "code",
      "execution_count": null,
      "metadata": {
        "colab": {
          "base_uri": "https://localhost:8080/",
          "height": 432
        },
        "id": "Z6zTyTHzPepC",
        "outputId": "ed7c3b5e-6b06-4163-e8f9-519d93773f05"
      },
      "outputs": [
        {
          "output_type": "stream",
          "name": "stderr",
          "text": [
            "/usr/local/lib/python3.7/dist-packages/seaborn/distributions.py:2619: FutureWarning: `distplot` is a deprecated function and will be removed in a future version. Please adapt your code to use either `displot` (a figure-level function with similar flexibility) or `histplot` (an axes-level function for histograms).\n",
            "  warnings.warn(msg, FutureWarning)\n",
            "/usr/local/lib/python3.7/dist-packages/seaborn/distributions.py:2619: FutureWarning: `distplot` is a deprecated function and will be removed in a future version. Please adapt your code to use either `displot` (a figure-level function with similar flexibility) or `histplot` (an axes-level function for histograms).\n",
            "  warnings.warn(msg, FutureWarning)\n"
          ]
        },
        {
          "output_type": "execute_result",
          "data": {
            "text/plain": [
              "<matplotlib.legend.Legend at 0x7f56e0022e10>"
            ]
          },
          "metadata": {},
          "execution_count": 39
        },
        {
          "output_type": "display_data",
          "data": {
            "text/plain": [
              "<Figure size 1152x360 with 1 Axes>"
            ],
            "image/png": "[encoded data removed]"
          },
          "metadata": {
            "needs_background": "light"
          }
        }
      ],
      "source": [
        "productunderwear = np.random.normal(PriceUnderwear.mean(),PriceUnderwear.std(),43)\n",
        "productsockshosiery = np.random.normal(PriceSocksHosiery.mean(),PriceSocksHosiery.std(),43)\n",
        "\n",
        "ci = stats.norm.interval(0.95, PriceUnderwear.mean(), PriceUnderwear.std())\n",
        "plt.figure(figsize=(16,5))\n",
        "sns.distplot(productunderwear, label='Underwear category product prices',color='blue')\n",
        "sns.distplot(productsockshosiery, label='Socks & Hosiery category product prices',color='red')\n",
        "\n",
        "plt.axvline(PriceUnderwear.mean(), color='blue', linewidth=2, label='Average price of Underwear category products')\n",
        "plt.axvline(PriceSocksHosiery.mean(), color='red',  linewidth=2, label='Socks & Hosiery category product average price')\n",
        "\n",
        "plt.axvline(ci[1], color='green', linestyle='dashed', linewidth=2, label='confidence threshold of 95% or Confidence Level 0.05')\n",
        "plt.axvline(ci[0], color='green', linestyle='dashed', linewidth=2)\n",
        "plt.axvline(productsockshosiery.mean() + t_stat*productsockshosiery.std(), color='black', linestyle='dashed', linewidth=2, label = 'Alternative Hypothesis')\n",
        "\n",
        "plt.legend()"
      ]
    },
    {
      "cell_type": "markdown",
      "metadata": {
        "id": "zDaoSpoyPepO"
      },
      "source": [
        "# 7 - Conclusion From Problem Identification\n",
        "\n",
        "> a. Which country has the largest average inventory purchase transaction?\n",
        "\n",
        "Answer: Based on the results of the data visualization in the bar chart above, it will be seen that the majority of transactions for all inventory items are owned/performed by the Chinese government. Indicates that the Chinese government often purchases inventory for all purposes in supporting its country's system. The second place is the unitet states, then the third is Brazil. The austin government conducts inventory transactions not too often or at least compared to other countries in purchasing goods for the purpose of supporting its country's system. Based on this the CEO of The Look store can see if there are any inventory sales, which is odd from the number of sales against the income received.\n",
        "\n",
        "\n",
        "> b. How does the cost of capital compare with the selling price of inventory items?\n",
        "\n",
        "Answer: Based on the visualization results in the bar chart above, it can be seen that the comparison of discounted prices and original prices can reduce the costs incurred by buyers in providing inventory items. Visually, Inventory Items in the jumpsuits & rompers category have a discounted price of half the original price, so they can save costs for buyers. This visualization can be a reference for buyers if they want to buy which inventory items have the highest discounted prices so they don't lose, so that buyers' expenses can be controlled more efficiently. Based on this, the CEO of the look shop can pay attention to the discounted prices that are in demand by their customers, so that they can be increased to get good profits.\n",
        "\n",
        "> c. What is the number of comparisons of sales of inventory items in each category of goods?\n",
        "\n",
        "Answer: Based on the pie chart visualization above, it can be seen that the intimates category of inventory items sold the most, followed by the Fashion Hoodies & Sweatshirts, Tops & Tees, Shorts, Swim, Sleep & Lounge and Sweaters categories as inventory items with almost the total sold the same and continued with other categories of inventory items. This visualization can be a reference for buyers, to see what stock or types of goods are available at the look shop. Based on this, the CEO of the look store can see which buyer's interest in the category of inventory items, if there is a category of goods with high interest can be checked whether there are sales that come out according to the income received\n",
        "\n",
        "> d. Is the price of an inventory item determined by the age of the customer?\n",
        "\n",
        "Answer: Based on the results of the scatter plot visualization above, that there is a relationship between age and the price of inventory items sold. For example, Pants are often purchased by older people. Scatter plots can also show the existence of outliers that are far from the set of the two variables. Outliers are extreme data that may result from an abnormal situation. Based on this, the CEO of the look store can see the interest in the price of goods that are often purchased by several groups based on age. If shoppers in their 40s most often buy items for around $60 or more, it can be a good idea to sell for age-appropriate customers.\n",
        "\n",
        "> e. Based on the size of the spread, what are the values ​​of the range, variance and standard deviation of the selected product category without any outlier data?\n",
        "\n",
        "Answer: Based on the calculation of the range for the underware product category, the difference between the highest and lowest selling prices is 35 dollars, indicating that the price range for the underware product category is in the look shop. The variance is a calculation to show how far the data in possession is spread from the average value, so the price of the underwear category product at the look store is the most expensive among the general prices of 40, which usually costs around 25 dollars. While the standard deviation is to find out how many values ​​or amounts of data are different from the average, then the price of the most expensive underwaer category product at the look store at 40 dollars has happened 7 times during the transaction time span of sales at the look store. Based on this, the look's CEO, can evaluate product prices in several categories other than underwear products, to control prices that are too high so as not to make a loss for the look store.\n",
        "\n",
        "> f. Has the product discount at the look store increased significantly?\n",
        "\n",
        "Answer: Based on the One sample one tailed test, it was found that there was a significant change regarding price discounts on products sold by the look shop. Based on this, CEO of the look can maintain the price of the product cut so that more customers will be interested in making transactions.\n",
        "\n",
        "> g. How is the average difference in product sales for the underwear category with sochs & hosiery?\n",
        "\n",
        "Answer: Based on the results of the independent t-test, it shows that there is a difference in the average price of the under category product"
      ]
    }
  ],
  "metadata": {
    "interpreter": {
      "hash": "0c9598bad852d241a266e00f4a396ca4d4e981649d84c59e5c608161c8fead6b"
    },
    "kernelspec": {
      "display_name": "Python 3.10.4 64-bit",
      "language": "python",
      "name": "python3"
    },
    "language_info": {
      "codemirror_mode": {
        "name": "ipython",
        "version": 3
      },
      "file_extension": ".py",
      "mimetype": "text/x-python",
      "name": "python",
      "nbconvert_exporter": "python",
      "pygments_lexer": "ipython3",
      "version": "3.10.4"
    },
    "orig_nbformat": 4,
    "colab": {
      "name": "Data Visualization and Hypotesis Testing.ipynb",
      "provenance": [],
      "toc_visible": true,
      "collapsed_sections": []
    }
  },
  "nbformat": 4,
  "nbformat_minor": 0
}